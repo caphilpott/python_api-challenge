{
 "cells": [
  {
   "cell_type": "markdown",
   "metadata": {},
   "source": [
    "# WeatherPy\n",
    "----\n",
    "\n",
    "#### Note\n",
    "* Instructions have been included for each segment. You do not have to follow them exactly, but they are included to help you think through the steps."
   ]
  },
  {
   "cell_type": "code",
   "execution_count": 54,
   "metadata": {
    "scrolled": true
   },
   "outputs": [],
   "source": [
    "# Dependencies and Setup\n",
    "import matplotlib.pyplot as plt\n",
    "import pandas as pd\n",
    "import numpy as np\n",
    "import requests\n",
    "import time\n",
    "from scipy.stats import linregress\n",
    "import datetime as dt \n",
    "import scipy.stats as st\n",
    "\n",
    "#Set today's date as a variable\n",
    "date = pd.to_datetime(\"today\").strftime(\"%m/%d/%Y\")\n",
    "\n",
    "# Import API key\n",
    "from api_keys import weather_api_key\n",
    "\n",
    "# Incorporated citipy to determine city based on latitude and longitude\n",
    "from citipy import citipy\n",
    "\n",
    "# Output File (CSV)\n",
    "output_data_file = \"../output_data/cities.csv\"\n",
    "\n",
    "# Range of latitudes and longitudes\n",
    "lat_range = (-90, 90)\n",
    "lng_range = (-180, 180)"
   ]
  },
  {
   "cell_type": "code",
   "execution_count": null,
   "metadata": {},
   "outputs": [],
   "source": [
    "\n"
   ]
  },
  {
   "cell_type": "markdown",
   "metadata": {},
   "source": [
    "## Generate Cities List"
   ]
  },
  {
   "cell_type": "code",
   "execution_count": 5,
   "metadata": {},
   "outputs": [
    {
     "data": {
      "text/plain": [
       "619"
      ]
     },
     "execution_count": 5,
     "metadata": {},
     "output_type": "execute_result"
    }
   ],
   "source": [
    "# List for holding lat_lngs and cities\n",
    "lat_lngs = []\n",
    "cities = []\n",
    "\n",
    "# Create a set of random lat and lng combinations\n",
    "lats = np.random.uniform(lat_range[0], lat_range[1], size=1500)\n",
    "lngs = np.random.uniform(lng_range[0], lng_range[1], size=1500)\n",
    "lat_lngs = zip(lats, lngs)\n",
    "\n",
    "# Identify nearest city for each lat, lng combination\n",
    "for lat_lng in lat_lngs:\n",
    "    city = citipy.nearest_city(lat_lng[0], lat_lng[1]).city_name\n",
    "    \n",
    "    # If the city is unique, then add it to a our cities list\n",
    "    if city not in cities:\n",
    "        cities.append(city)\n",
    "\n",
    "# Print the city count to confirm sufficient count\n",
    "len(cities)"
   ]
  },
  {
   "cell_type": "code",
   "execution_count": null,
   "metadata": {},
   "outputs": [],
   "source": []
  },
  {
   "cell_type": "markdown",
   "metadata": {},
   "source": [
    "### Perform API Calls\n",
    "* Perform a weather check on each city using a series of successive API calls.\n",
    "* Include a print log of each city as it'sbeing processed (with the city number and city name).\n"
   ]
  },
  {
   "cell_type": "code",
   "execution_count": 75,
   "metadata": {},
   "outputs": [
    {
     "name": "stdout",
     "output_type": "stream",
     "text": [
      "Beginning Data Retrieval\n",
      "______________________________\n",
      "Processing Record 0 of Set 1 | sawtell\n",
      "Processing Record 1 of Set 1 | yenagoa\n",
      "Processing Record 2 of Set 1 | hithadhoo\n",
      "Processing Record 3 of Set 1 | illoqqortoormiut\n",
      "City not found, skipping\n",
      "Processing Record 4 of Set 1 | nizhneyansk\n",
      "City not found, skipping\n",
      "Processing Record 5 of Set 1 | soavinandriana\n",
      "Processing Record 6 of Set 1 | bluff\n",
      "Processing Record 7 of Set 1 | port alfred\n",
      "Processing Record 8 of Set 1 | haftoni\n",
      "Processing Record 9 of Set 1 | ishinomaki\n",
      "Processing Record 10 of Set 1 | novokruchininskiy\n",
      "Processing Record 11 of Set 1 | busselton\n",
      "Processing Record 12 of Set 1 | yellowknife\n",
      "Processing Record 13 of Set 1 | hobart\n",
      "Processing Record 14 of Set 1 | rikitea\n",
      "Processing Record 15 of Set 1 | souillac\n",
      "Processing Record 16 of Set 1 | ponta do sol\n",
      "Processing Record 17 of Set 1 | bubaque\n",
      "Processing Record 18 of Set 1 | manokwari\n",
      "Processing Record 19 of Set 1 | taolanaro\n",
      "City not found, skipping\n",
      "Processing Record 20 of Set 1 | saint-philippe\n",
      "Processing Record 21 of Set 1 | pevek\n",
      "Processing Record 22 of Set 1 | vaini\n",
      "Processing Record 23 of Set 1 | wajir\n",
      "Processing Record 24 of Set 1 | albany\n",
      "Processing Record 25 of Set 1 | shelburne\n",
      "Processing Record 26 of Set 1 | port-gentil\n",
      "Processing Record 27 of Set 1 | puerto ayora\n",
      "Processing Record 28 of Set 1 | rovaniemi\n",
      "Processing Record 29 of Set 1 | atuona\n",
      "Processing Record 30 of Set 1 | saldanha\n",
      "Processing Record 31 of Set 1 | sorland\n",
      "Processing Record 32 of Set 1 | avarua\n",
      "Processing Record 33 of Set 1 | tilichiki\n",
      "Processing Record 34 of Set 1 | renfrew\n",
      "Processing Record 35 of Set 1 | qaanaaq\n",
      "Processing Record 36 of Set 1 | mataura\n",
      "Processing Record 37 of Set 1 | pilot butte\n",
      "Processing Record 38 of Set 1 | candelaria\n",
      "Processing Record 39 of Set 1 | zhangye\n",
      "Processing Record 40 of Set 1 | cape town\n",
      "Processing Record 41 of Set 1 | boddam\n",
      "Processing Record 42 of Set 1 | vardo\n",
      "Processing Record 43 of Set 1 | ukiah\n",
      "Processing Record 44 of Set 1 | norman wells\n",
      "Processing Record 45 of Set 1 | tura\n",
      "Processing Record 46 of Set 1 | umzimvubu\n",
      "City not found, skipping\n",
      "Processing Record 47 of Set 1 | rio gallegos\n",
      "Processing Record 48 of Set 1 | nikolskoye\n",
      "Processing Record 49 of Set 1 | hermanus\n",
      "Processing Record 50 of Set 1 | camaqua\n",
      "Processing Record 51 of Set 1 | kapaa\n",
      "Processing Record 52 of Set 1 | saint-francois\n",
      "Processing Record 53 of Set 1 | burgeo\n",
      "Processing Record 54 of Set 1 | tsihombe\n",
      "City not found, skipping\n",
      "Processing Record 55 of Set 1 | udachnyy\n",
      "Processing Record 56 of Set 1 | shenzhen\n",
      "Processing Record 57 of Set 1 | kaitangata\n",
      "Processing Record 58 of Set 1 | jamestown\n",
      "Processing Record 59 of Set 1 | vanavara\n",
      "Processing Record 60 of Set 1 | khatanga\n",
      "Processing Record 61 of Set 1 | teguise\n",
      "Processing Record 62 of Set 1 | ushuaia\n",
      "Processing Record 63 of Set 1 | new norfolk\n",
      "Processing Record 64 of Set 1 | provideniya\n",
      "Processing Record 65 of Set 1 | alanya\n",
      "Processing Record 66 of Set 1 | lompoc\n",
      "Processing Record 67 of Set 1 | luderitz\n",
      "Processing Record 68 of Set 1 | belushya guba\n",
      "City not found, skipping\n",
      "Processing Record 69 of Set 1 | georgetown\n",
      "Processing Record 70 of Set 1 | onega\n",
      "Processing Record 71 of Set 1 | mar del plata\n",
      "Processing Record 72 of Set 1 | marsaxlokk\n",
      "Processing Record 73 of Set 1 | dezful\n",
      "Processing Record 74 of Set 1 | batagay-alyta\n",
      "Processing Record 75 of Set 1 | sur\n",
      "Processing Record 76 of Set 1 | chuy\n",
      "Processing Record 77 of Set 1 | castro\n",
      "Processing Record 78 of Set 1 | nanortalik\n",
      "Processing Record 79 of Set 1 | upernavik\n",
      "Processing Record 80 of Set 1 | tiksi\n",
      "Processing Record 81 of Set 1 | lavrentiya\n",
      "Processing Record 82 of Set 1 | karasjok\n",
      "Processing Record 83 of Set 1 | flinders\n",
      "Processing Record 84 of Set 1 | aklavik\n",
      "Processing Record 85 of Set 1 | faanui\n",
      "Processing Record 86 of Set 1 | namtsy\n",
      "Processing Record 87 of Set 1 | naze\n",
      "Processing Record 88 of Set 1 | torbay\n",
      "Processing Record 89 of Set 1 | santiago\n",
      "Processing Record 90 of Set 1 | tulagi\n",
      "Processing Record 91 of Set 1 | zhezkazgan\n",
      "Processing Record 92 of Set 1 | kruisfontein\n",
      "Processing Record 93 of Set 1 | vargem grande\n",
      "Processing Record 94 of Set 1 | hilo\n",
      "Processing Record 95 of Set 1 | lebu\n",
      "Processing Record 96 of Set 1 | krasnoselkup\n",
      "Processing Record 97 of Set 1 | tuktoyaktuk\n",
      "Processing Record 98 of Set 1 | amderma\n",
      "City not found, skipping\n",
      "Processing Record 99 of Set 1 | saryshagan\n",
      "City not found, skipping\n",
      "Processing Record 100 of Set 1 | orgun\n",
      "City not found, skipping\n",
      "Processing Record 101 of Set 1 | villazon\n",
      "Processing Record 102 of Set 1 | vallenar\n",
      "Processing Record 103 of Set 1 | saint-joseph\n",
      "Processing Record 104 of Set 1 | kushiro\n",
      "Processing Record 105 of Set 1 | les cayes\n",
      "Processing Record 106 of Set 1 | bocaiuva\n",
      "Processing Record 107 of Set 1 | krasnovishersk\n",
      "Processing Record 108 of Set 1 | abu dhabi\n",
      "Processing Record 109 of Set 1 | narsaq\n",
      "Processing Record 110 of Set 1 | saleaula\n",
      "City not found, skipping\n",
      "Processing Record 111 of Set 1 | srednekolymsk\n",
      "Processing Record 112 of Set 1 | hasaki\n",
      "Processing Record 113 of Set 1 | fortuna\n",
      "Processing Record 114 of Set 1 | bethel\n",
      "Processing Record 115 of Set 1 | sentyabrskiy\n",
      "City not found, skipping\n",
      "Processing Record 116 of Set 1 | andros town\n",
      "Processing Record 117 of Set 1 | prince rupert\n",
      "Processing Record 118 of Set 1 | novyy urengoy\n",
      "Processing Record 119 of Set 1 | samarai\n",
      "Processing Record 120 of Set 1 | punta arenas\n",
      "Processing Record 121 of Set 1 | tumannyy\n",
      "City not found, skipping\n",
      "Processing Record 122 of Set 1 | karur\n",
      "Processing Record 123 of Set 1 | bengkulu\n",
      "Processing Record 124 of Set 1 | meadow lake\n",
      "Processing Record 125 of Set 1 | bambous virieux\n",
      "Processing Record 126 of Set 1 | corozal\n",
      "Processing Record 127 of Set 1 | belaya gora\n",
      "Processing Record 128 of Set 1 | grindavik\n",
      "Processing Record 129 of Set 1 | leningradskiy\n",
      "Processing Record 130 of Set 1 | sitka\n",
      "Processing Record 131 of Set 1 | sorong\n",
      "Processing Record 132 of Set 1 | esperance\n",
      "Processing Record 133 of Set 1 | nome\n",
      "Processing Record 134 of Set 1 | cherskiy\n",
      "Processing Record 135 of Set 1 | saint anthony\n",
      "Processing Record 136 of Set 1 | nanakuli\n",
      "Processing Record 137 of Set 1 | tateyama\n",
      "Processing Record 138 of Set 1 | karaton\n",
      "Processing Record 139 of Set 1 | los llanos de aridane\n",
      "Processing Record 140 of Set 1 | beysehir\n",
      "Processing Record 141 of Set 1 | penarroya-pueblonuevo\n",
      "Processing Record 142 of Set 1 | butaritari\n",
      "Processing Record 143 of Set 1 | karkaralinsk\n",
      "City not found, skipping\n",
      "Processing Record 144 of Set 1 | thinadhoo\n",
      "Processing Record 145 of Set 1 | thompson\n",
      "Processing Record 146 of Set 1 | sao filipe\n",
      "Processing Record 147 of Set 1 | blessington\n",
      "Processing Record 148 of Set 1 | bathsheba\n",
      "Processing Record 149 of Set 1 | port lincoln\n",
      "Processing Record 150 of Set 1 | cabo san lucas\n",
      "Processing Record 151 of Set 1 | timmins\n",
      "Processing Record 152 of Set 1 | mendahara\n",
      "City not found, skipping\n",
      "Processing Record 153 of Set 1 | east london\n",
      "Processing Record 154 of Set 1 | suntar\n",
      "Processing Record 155 of Set 1 | chokurdakh\n",
      "Processing Record 156 of Set 1 | diffa\n",
      "Processing Record 157 of Set 1 | alofi\n",
      "Processing Record 158 of Set 1 | kaeo\n",
      "Processing Record 159 of Set 1 | pacific grove\n",
      "Processing Record 160 of Set 1 | dikson\n",
      "Processing Record 161 of Set 1 | talnakh\n",
      "Processing Record 162 of Set 1 | puerto madryn\n",
      "Processing Record 163 of Set 1 | impfondo\n",
      "Processing Record 164 of Set 1 | carnarvon\n",
      "Processing Record 165 of Set 1 | lazaro cardenas\n",
      "Processing Record 166 of Set 1 | tasiilaq\n",
      "Processing Record 167 of Set 1 | kambove\n",
      "Processing Record 168 of Set 1 | klaksvik\n",
      "Processing Record 169 of Set 1 | bredasdorp\n",
      "Processing Record 170 of Set 1 | wulanhaote\n",
      "City not found, skipping\n",
      "Processing Record 171 of Set 1 | linjiang\n",
      "Processing Record 172 of Set 1 | lasa\n",
      "Processing Record 173 of Set 1 | mount isa\n",
      "Processing Record 174 of Set 1 | hobyo\n",
      "Processing Record 175 of Set 1 | akyab\n",
      "Processing Record 176 of Set 1 | utiroa\n",
      "City not found, skipping\n",
      "Processing Record 177 of Set 1 | yar-sale\n",
      "Processing Record 178 of Set 1 | ratnagiri\n",
      "Processing Record 179 of Set 1 | touros\n",
      "Processing Record 180 of Set 1 | dalbandin\n",
      "Processing Record 181 of Set 1 | samusu\n",
      "City not found, skipping\n",
      "Processing Record 182 of Set 1 | usinsk\n",
      "Processing Record 183 of Set 1 | labuhan\n"
     ]
    },
    {
     "name": "stdout",
     "output_type": "stream",
     "text": [
      "Processing Record 184 of Set 1 | mitsamiouli\n",
      "Processing Record 185 of Set 1 | san quintin\n",
      "Processing Record 186 of Set 1 | vanderhoof\n",
      "Processing Record 187 of Set 1 | ribeira grande\n",
      "Processing Record 188 of Set 1 | sant julia de loria\n",
      "Processing Record 189 of Set 1 | clyde river\n",
      "Processing Record 190 of Set 1 | babanusah\n",
      "City not found, skipping\n",
      "Processing Record 191 of Set 1 | ijaki\n",
      "City not found, skipping\n",
      "Processing Record 192 of Set 1 | kataysk\n",
      "Processing Record 193 of Set 1 | san cristobal\n",
      "Processing Record 194 of Set 1 | saint george\n",
      "Processing Record 195 of Set 1 | tautira\n",
      "Processing Record 196 of Set 1 | derzhavinsk\n",
      "Processing Record 197 of Set 1 | ilulissat\n",
      "Processing Record 198 of Set 1 | lesozavodsk\n",
      "Processing Record 199 of Set 1 | moron\n",
      "Processing Record 200 of Set 1 | camacha\n",
      "Processing Record 201 of Set 1 | fernandina beach\n",
      "Processing Record 202 of Set 1 | port blair\n",
      "Processing Record 203 of Set 1 | rocha\n",
      "Processing Record 204 of Set 1 | mashhad\n",
      "Processing Record 205 of Set 1 | kalmunai\n",
      "Processing Record 206 of Set 1 | te anau\n",
      "Processing Record 207 of Set 1 | daru\n",
      "Processing Record 208 of Set 1 | college\n",
      "Processing Record 209 of Set 1 | montevideo\n",
      "Processing Record 210 of Set 1 | ahuimanu\n",
      "Processing Record 211 of Set 1 | lagoa\n",
      "Processing Record 212 of Set 1 | atasu\n",
      "Processing Record 213 of Set 1 | hovd\n",
      "Processing Record 214 of Set 1 | hua hin\n",
      "Processing Record 215 of Set 1 | alta floresta\n",
      "Processing Record 216 of Set 1 | vila velha\n",
      "Processing Record 217 of Set 1 | siderno\n",
      "Processing Record 218 of Set 1 | altay\n",
      "Processing Record 219 of Set 1 | port elizabeth\n",
      "Processing Record 220 of Set 1 | bay roberts\n",
      "Processing Record 221 of Set 1 | katsuura\n",
      "Processing Record 222 of Set 1 | makinsk\n",
      "Processing Record 223 of Set 1 | marienburg\n",
      "Processing Record 224 of Set 1 | barsi\n",
      "Processing Record 225 of Set 1 | kundla\n",
      "Processing Record 226 of Set 1 | mayo\n",
      "Processing Record 227 of Set 1 | turukhansk\n",
      "Processing Record 228 of Set 1 | celestun\n",
      "Processing Record 229 of Set 1 | taktaszada\n",
      "Processing Record 230 of Set 1 | vaitupu\n",
      "City not found, skipping\n",
      "Processing Record 231 of Set 1 | atherton\n",
      "Processing Record 232 of Set 1 | gambela\n",
      "Processing Record 233 of Set 1 | mount gambier\n",
      "Processing Record 234 of Set 1 | midland\n",
      "Processing Record 235 of Set 1 | kristiansund\n",
      "Processing Record 236 of Set 1 | marsa matruh\n",
      "Processing Record 237 of Set 1 | opuwo\n",
      "Processing Record 238 of Set 1 | waipawa\n",
      "Processing Record 239 of Set 1 | ojinaga\n",
      "Processing Record 240 of Set 1 | araouane\n",
      "Processing Record 241 of Set 1 | lamu\n",
      "Processing Record 242 of Set 1 | marcona\n",
      "City not found, skipping\n",
      "Processing Record 243 of Set 1 | sarangani\n",
      "Processing Record 244 of Set 1 | blagoyevo\n",
      "Processing Record 245 of Set 1 | george town\n",
      "Processing Record 246 of Set 1 | gilbues\n",
      "Processing Record 247 of Set 1 | roma\n",
      "Processing Record 248 of Set 1 | quatre cocos\n",
      "Processing Record 249 of Set 1 | armidale\n",
      "Processing Record 250 of Set 1 | namibe\n",
      "Processing Record 251 of Set 1 | tual\n",
      "Processing Record 252 of Set 1 | coihaique\n",
      "Processing Record 253 of Set 1 | maldonado\n",
      "Processing Record 254 of Set 1 | aykhal\n",
      "Processing Record 255 of Set 1 | plekhanovo\n",
      "Processing Record 256 of Set 1 | hualmay\n",
      "Processing Record 257 of Set 1 | jalapa\n",
      "Processing Record 258 of Set 1 | amapa\n",
      "Processing Record 259 of Set 1 | garden city\n",
      "Processing Record 260 of Set 1 | awjilah\n",
      "Processing Record 261 of Set 1 | kutum\n",
      "Processing Record 262 of Set 1 | victoria\n",
      "Processing Record 263 of Set 1 | bulgan\n",
      "Processing Record 264 of Set 1 | pimenta bueno\n",
      "Processing Record 265 of Set 1 | baghdad\n",
      "Processing Record 266 of Set 1 | zalesovo\n",
      "Processing Record 267 of Set 1 | erzin\n",
      "Processing Record 268 of Set 1 | zhaotong\n",
      "Processing Record 269 of Set 1 | troy\n",
      "Processing Record 270 of Set 1 | kendari\n",
      "Processing Record 271 of Set 1 | mamaku\n",
      "Processing Record 272 of Set 1 | hambantota\n",
      "Processing Record 273 of Set 1 | ekhabi\n",
      "Processing Record 274 of Set 1 | huarmey\n",
      "Processing Record 275 of Set 1 | rungata\n",
      "City not found, skipping\n",
      "Processing Record 276 of Set 1 | matamoros\n",
      "Processing Record 277 of Set 1 | tayu\n",
      "Processing Record 278 of Set 1 | sindi\n",
      "Processing Record 279 of Set 1 | chaozhou\n",
      "Processing Record 280 of Set 1 | kismayo\n",
      "Processing Record 281 of Set 1 | chumikan\n",
      "Processing Record 282 of Set 1 | general roca\n",
      "Processing Record 283 of Set 1 | biak\n",
      "Processing Record 284 of Set 1 | chagda\n",
      "City not found, skipping\n",
      "Processing Record 285 of Set 1 | wajima\n",
      "Processing Record 286 of Set 1 | george\n",
      "Processing Record 287 of Set 1 | kyra\n",
      "Processing Record 288 of Set 1 | ishigaki\n",
      "Processing Record 289 of Set 1 | nalut\n",
      "Processing Record 290 of Set 1 | comodoro rivadavia\n",
      "Processing Record 291 of Set 1 | lorengau\n",
      "Processing Record 292 of Set 1 | kuytun\n",
      "Processing Record 293 of Set 1 | sibolga\n",
      "Processing Record 294 of Set 1 | nishihara\n",
      "Processing Record 295 of Set 1 | andevoranto\n",
      "City not found, skipping\n",
      "Processing Record 296 of Set 1 | attawapiskat\n",
      "City not found, skipping\n",
      "Processing Record 297 of Set 1 | sao gabriel da cachoeira\n",
      "Processing Record 298 of Set 1 | moose factory\n",
      "Processing Record 299 of Set 1 | pafos\n",
      "Processing Record 300 of Set 1 | padang\n",
      "Processing Record 301 of Set 1 | denpasar\n",
      "Processing Record 302 of Set 1 | gazli\n",
      "Processing Record 303 of Set 1 | biaora\n",
      "Processing Record 304 of Set 1 | jalu\n",
      "Processing Record 305 of Set 1 | gurskoye\n",
      "City not found, skipping\n",
      "Processing Record 306 of Set 1 | rincon\n",
      "Processing Record 307 of Set 1 | mingshui\n",
      "Processing Record 308 of Set 1 | sehithwa\n",
      "Processing Record 309 of Set 1 | qaqortoq\n",
      "Processing Record 310 of Set 1 | vila franca do campo\n",
      "Processing Record 311 of Set 1 | inhambane\n",
      "Processing Record 312 of Set 1 | nara\n",
      "Processing Record 313 of Set 1 | temaraia\n",
      "City not found, skipping\n",
      "Processing Record 314 of Set 1 | yining\n",
      "Processing Record 315 of Set 1 | glubokiy\n",
      "Processing Record 316 of Set 1 | kodiak\n",
      "Processing Record 317 of Set 1 | airai\n",
      "Processing Record 318 of Set 1 | puttur\n",
      "Processing Record 319 of Set 1 | kavieng\n",
      "Processing Record 320 of Set 1 | ballina\n",
      "Processing Record 321 of Set 1 | chunskiy\n",
      "Processing Record 322 of Set 1 | popondetta\n",
      "Processing Record 323 of Set 1 | veraval\n",
      "Processing Record 324 of Set 1 | allapalli\n",
      "Processing Record 325 of Set 1 | polunochnoye\n",
      "Processing Record 326 of Set 1 | hvammstangi\n",
      "City not found, skipping\n",
      "Processing Record 327 of Set 1 | prainha\n",
      "Processing Record 328 of Set 1 | fort nelson\n",
      "Processing Record 329 of Set 1 | mahendranagar\n",
      "Processing Record 330 of Set 1 | hervey bay\n",
      "Processing Record 331 of Set 1 | coquimbo\n",
      "Processing Record 332 of Set 1 | barentsburg\n",
      "City not found, skipping\n",
      "Processing Record 333 of Set 1 | revelstoke\n",
      "Processing Record 334 of Set 1 | mpika\n",
      "Processing Record 335 of Set 1 | daman\n",
      "Processing Record 336 of Set 1 | pryazha\n",
      "Processing Record 337 of Set 1 | agadez\n",
      "Processing Record 338 of Set 1 | barrow\n",
      "Processing Record 339 of Set 1 | geraldton\n",
      "Processing Record 340 of Set 1 | curup\n",
      "Processing Record 341 of Set 1 | adrar\n",
      "Processing Record 342 of Set 1 | yumen\n",
      "Processing Record 343 of Set 1 | aswan\n",
      "Processing Record 344 of Set 1 | ust-kamchatsk\n",
      "City not found, skipping\n",
      "Processing Record 345 of Set 1 | ilhabela\n",
      "Processing Record 346 of Set 1 | guerrero negro\n",
      "Processing Record 347 of Set 1 | santa engracia\n",
      "Processing Record 348 of Set 1 | chateaubelair\n",
      "Processing Record 349 of Set 1 | gladstone\n",
      "Processing Record 350 of Set 1 | mahebourg\n",
      "Processing Record 351 of Set 1 | demba\n",
      "Processing Record 352 of Set 1 | namatanai\n",
      "Processing Record 353 of Set 1 | severo-kurilsk\n",
      "Processing Record 354 of Set 1 | khuchni\n",
      "Processing Record 355 of Set 1 | nemuro\n",
      "Processing Record 356 of Set 1 | kalabo\n",
      "Processing Record 357 of Set 1 | kattivakkam\n",
      "Processing Record 358 of Set 1 | sinnamary\n",
      "Processing Record 359 of Set 1 | bolungarvik\n",
      "City not found, skipping\n",
      "Processing Record 360 of Set 1 | canon city\n",
      "Processing Record 361 of Set 1 | kahului\n",
      "Processing Record 362 of Set 1 | lakatoro\n",
      "Processing Record 363 of Set 1 | paita\n",
      "Processing Record 364 of Set 1 | cidreira\n",
      "Processing Record 365 of Set 1 | inuvik\n",
      "Processing Record 366 of Set 1 | atar\n",
      "Processing Record 367 of Set 1 | svetlogorsk\n",
      "Processing Record 368 of Set 1 | santa isabel do rio negro\n",
      "Processing Record 369 of Set 1 | eufaula\n"
     ]
    },
    {
     "name": "stdout",
     "output_type": "stream",
     "text": [
      "Processing Record 370 of Set 1 | san ramon\n",
      "Processing Record 371 of Set 1 | mathathane\n",
      "Processing Record 372 of Set 1 | abha\n",
      "Processing Record 373 of Set 1 | kenai\n",
      "Processing Record 374 of Set 1 | westport\n",
      "Processing Record 375 of Set 1 | suleja\n",
      "Processing Record 376 of Set 1 | kapoeta\n",
      "Processing Record 377 of Set 1 | deputatskiy\n",
      "Processing Record 378 of Set 1 | anito\n",
      "Processing Record 379 of Set 1 | palmer\n",
      "Processing Record 380 of Set 1 | tsaratanana\n",
      "Processing Record 381 of Set 1 | hamilton\n",
      "Processing Record 382 of Set 1 | longyearbyen\n",
      "Processing Record 383 of Set 1 | ketchikan\n",
      "Processing Record 384 of Set 1 | lvov\n",
      "Processing Record 385 of Set 1 | nyagan\n",
      "Processing Record 386 of Set 1 | mirnyy\n",
      "Processing Record 387 of Set 1 | rawson\n",
      "Processing Record 388 of Set 1 | pisco\n",
      "Processing Record 389 of Set 1 | kano\n",
      "Processing Record 390 of Set 1 | paamiut\n",
      "Processing Record 391 of Set 1 | tiarei\n",
      "Processing Record 392 of Set 1 | bandarbeyla\n",
      "Processing Record 393 of Set 1 | santa fe\n",
      "Processing Record 394 of Set 1 | nelson bay\n",
      "Processing Record 395 of Set 1 | bulaevo\n",
      "Processing Record 396 of Set 1 | juba\n",
      "Processing Record 397 of Set 1 | pandan\n",
      "Processing Record 398 of Set 1 | ewa beach\n",
      "Processing Record 399 of Set 1 | mys shmidta\n",
      "City not found, skipping\n",
      "Processing Record 400 of Set 1 | petropavlovsk-kamchatskiy\n",
      "Processing Record 401 of Set 1 | qui nhon\n",
      "Processing Record 402 of Set 1 | yankton\n",
      "Processing Record 403 of Set 1 | tezpur\n",
      "Processing Record 404 of Set 1 | ancud\n",
      "Processing Record 405 of Set 1 | daxian\n",
      "City not found, skipping\n",
      "Processing Record 406 of Set 1 | sechura\n",
      "Processing Record 407 of Set 1 | hradek\n",
      "Processing Record 408 of Set 1 | tabiauea\n",
      "City not found, skipping\n",
      "Processing Record 409 of Set 1 | koumac\n",
      "Processing Record 410 of Set 1 | louisbourg\n",
      "City not found, skipping\n",
      "Processing Record 411 of Set 1 | akcakoca\n",
      "Processing Record 412 of Set 1 | nuevo progreso\n",
      "Processing Record 413 of Set 1 | kayerkan\n",
      "Processing Record 414 of Set 1 | takapau\n",
      "Processing Record 415 of Set 1 | lulea\n",
      "Processing Record 416 of Set 1 | vao\n",
      "Processing Record 417 of Set 1 | kyzyl-suu\n",
      "Processing Record 418 of Set 1 | caravelas\n",
      "Processing Record 419 of Set 1 | corinto\n",
      "Processing Record 420 of Set 1 | walvis bay\n",
      "Processing Record 421 of Set 1 | plyussa\n",
      "Processing Record 422 of Set 1 | nioro\n",
      "Processing Record 423 of Set 1 | moberly\n",
      "Processing Record 424 of Set 1 | sembakung\n",
      "Processing Record 425 of Set 1 | sikasso\n",
      "Processing Record 426 of Set 1 | canto do buriti\n",
      "Processing Record 427 of Set 1 | eseka\n",
      "Processing Record 428 of Set 1 | plettenberg bay\n",
      "Processing Record 429 of Set 1 | scarborough\n",
      "Processing Record 430 of Set 1 | port macquarie\n",
      "Processing Record 431 of Set 1 | salme\n",
      "Processing Record 432 of Set 1 | valdepenas\n",
      "Processing Record 433 of Set 1 | zhigansk\n",
      "Processing Record 434 of Set 1 | omsukchan\n",
      "Processing Record 435 of Set 1 | miandrivazo\n",
      "Processing Record 436 of Set 1 | nyurba\n",
      "Processing Record 437 of Set 1 | mecca\n",
      "Processing Record 438 of Set 1 | marietta\n",
      "Processing Record 439 of Set 1 | diego de almagro\n",
      "Processing Record 440 of Set 1 | saskylakh\n",
      "Processing Record 441 of Set 1 | santa maria da vitoria\n",
      "Processing Record 442 of Set 1 | madingou\n",
      "Processing Record 443 of Set 1 | san patricio\n",
      "Processing Record 444 of Set 1 | carmaux\n",
      "Processing Record 445 of Set 1 | tugulym\n",
      "Processing Record 446 of Set 1 | batemans bay\n",
      "Processing Record 447 of Set 1 | bakchar\n",
      "Processing Record 448 of Set 1 | karaman\n",
      "Processing Record 449 of Set 1 | verkh-usugli\n",
      "Processing Record 450 of Set 1 | khandagayty\n",
      "Processing Record 451 of Set 1 | agva\n",
      "City not found, skipping\n",
      "Processing Record 452 of Set 1 | suez\n",
      "Processing Record 453 of Set 1 | halifax\n",
      "Processing Record 454 of Set 1 | aksha\n",
      "Processing Record 455 of Set 1 | valdivia\n",
      "Processing Record 456 of Set 1 | west bay\n",
      "Processing Record 457 of Set 1 | valente\n",
      "Processing Record 458 of Set 1 | dauphin\n",
      "Processing Record 459 of Set 1 | naftah\n",
      "City not found, skipping\n",
      "Processing Record 460 of Set 1 | encheng\n",
      "Processing Record 461 of Set 1 | markova\n",
      "Processing Record 462 of Set 1 | bandrele\n",
      "Processing Record 463 of Set 1 | robertsport\n",
      "Processing Record 464 of Set 1 | arlit\n",
      "Processing Record 465 of Set 1 | atbasar\n",
      "Processing Record 466 of Set 1 | boende\n",
      "Processing Record 467 of Set 1 | broome\n",
      "Processing Record 468 of Set 1 | nabire\n",
      "Processing Record 469 of Set 1 | warqla\n",
      "City not found, skipping\n",
      "Processing Record 470 of Set 1 | goure\n",
      "Processing Record 471 of Set 1 | nokaneng\n",
      "Processing Record 472 of Set 1 | steamboat springs\n",
      "Processing Record 473 of Set 1 | obo\n",
      "Processing Record 474 of Set 1 | haibowan\n",
      "City not found, skipping\n",
      "Processing Record 475 of Set 1 | havelock\n",
      "Processing Record 476 of Set 1 | pundaguitan\n",
      "Processing Record 477 of Set 1 | mufumbwe\n",
      "Processing Record 478 of Set 1 | senneterre\n",
      "Processing Record 479 of Set 1 | palabuhanratu\n",
      "City not found, skipping\n",
      "Processing Record 480 of Set 1 | kavaratti\n",
      "Processing Record 481 of Set 1 | meiktila\n",
      "Processing Record 482 of Set 1 | prieska\n",
      "Processing Record 483 of Set 1 | bonavista\n",
      "Processing Record 484 of Set 1 | asau\n",
      "Processing Record 485 of Set 1 | fez\n",
      "Processing Record 486 of Set 1 | dragoman\n",
      "Processing Record 487 of Set 1 | esmeraldas\n",
      "Processing Record 488 of Set 1 | uyuni\n",
      "Processing Record 489 of Set 1 | kristiinankaupunki\n",
      "Processing Record 490 of Set 1 | hongjiang\n",
      "Processing Record 491 of Set 1 | ruidoso\n",
      "Processing Record 492 of Set 1 | laguna\n",
      "Processing Record 493 of Set 1 | nkhotakota\n",
      "Processing Record 494 of Set 1 | acapulco\n",
      "Processing Record 495 of Set 1 | bac lieu\n",
      "Processing Record 496 of Set 1 | tongren\n",
      "Processing Record 497 of Set 1 | vilaka\n",
      "Processing Record 498 of Set 1 | nefteyugansk\n",
      "Processing Record 499 of Set 1 | shieli\n",
      "Processing Record 500 of Set 1 | santo angelo\n",
      "Processing Record 501 of Set 1 | cabra\n",
      "Processing Record 502 of Set 1 | vanimo\n",
      "Processing Record 503 of Set 1 | araci\n",
      "Processing Record 504 of Set 1 | sakiai\n",
      "Processing Record 505 of Set 1 | yanan\n",
      "City not found, skipping\n",
      "Processing Record 506 of Set 1 | tucupita\n",
      "Processing Record 507 of Set 1 | cairns\n",
      "Processing Record 508 of Set 1 | kehychivka\n",
      "Processing Record 509 of Set 1 | virovitica\n",
      "Processing Record 510 of Set 1 | leiyang\n",
      "Processing Record 511 of Set 1 | morant bay\n",
      "Processing Record 512 of Set 1 | mezen\n",
      "Processing Record 513 of Set 1 | roald\n",
      "Processing Record 514 of Set 1 | ranong\n",
      "Processing Record 515 of Set 1 | chimore\n",
      "Processing Record 516 of Set 1 | cap malheureux\n",
      "Processing Record 517 of Set 1 | puerto leguizamo\n",
      "Processing Record 518 of Set 1 | lolua\n",
      "City not found, skipping\n",
      "Processing Record 519 of Set 1 | eenhana\n",
      "Processing Record 520 of Set 1 | madang\n",
      "Processing Record 521 of Set 1 | antsohihy\n",
      "Processing Record 522 of Set 1 | gunjur\n",
      "Processing Record 523 of Set 1 | buta\n",
      "Processing Record 524 of Set 1 | abbeville\n",
      "Processing Record 525 of Set 1 | ler\n",
      "Processing Record 526 of Set 1 | yuzhno-yeniseyskiy\n",
      "City not found, skipping\n",
      "Processing Record 527 of Set 1 | kargopol\n",
      "Processing Record 528 of Set 1 | omboue\n",
      "Processing Record 529 of Set 1 | wahran\n",
      "City not found, skipping\n",
      "Processing Record 530 of Set 1 | luanda\n",
      "Processing Record 531 of Set 1 | maracaju\n",
      "Processing Record 532 of Set 1 | stephenville\n",
      "Processing Record 533 of Set 1 | kiama\n",
      "Processing Record 534 of Set 1 | bilma\n",
      "Processing Record 535 of Set 1 | kurilsk\n",
      "Processing Record 536 of Set 1 | kibara\n",
      "Processing Record 537 of Set 1 | zhuhai\n",
      "Processing Record 538 of Set 1 | jiddah\n",
      "City not found, skipping\n",
      "Processing Record 539 of Set 1 | terney\n",
      "Processing Record 540 of Set 1 | skibbereen\n",
      "Processing Record 541 of Set 1 | eyemouth\n",
      "Processing Record 542 of Set 1 | iqaluit\n",
      "Processing Record 543 of Set 1 | taburao\n",
      "City not found, skipping\n",
      "Processing Record 544 of Set 1 | bintulu\n",
      "Processing Record 545 of Set 1 | cap-chat\n",
      "Processing Record 546 of Set 1 | la paz\n",
      "Processing Record 547 of Set 1 | sisimiut\n",
      "Processing Record 548 of Set 1 | rabat\n",
      "Processing Record 549 of Set 1 | northam\n",
      "Processing Record 550 of Set 1 | taoudenni\n",
      "Processing Record 551 of Set 1 | micheweni\n",
      "Processing Record 552 of Set 1 | nuuk\n",
      "Processing Record 553 of Set 1 | miri\n",
      "Processing Record 554 of Set 1 | hobbs\n",
      "Processing Record 555 of Set 1 | barentu\n",
      "Processing Record 556 of Set 1 | riyadh\n",
      "Processing Record 557 of Set 1 | tabou\n"
     ]
    },
    {
     "name": "stdout",
     "output_type": "stream",
     "text": [
      "Processing Record 558 of Set 1 | antofagasta\n",
      "Processing Record 559 of Set 1 | kidal\n",
      "Processing Record 560 of Set 1 | la pila\n",
      "Processing Record 561 of Set 1 | buala\n",
      "Processing Record 562 of Set 1 | cururupu\n",
      "Processing Record 563 of Set 1 | manosque\n",
      "Processing Record 564 of Set 1 | eureka\n",
      "Processing Record 565 of Set 1 | saint-pierre\n",
      "Processing Record 566 of Set 1 | gorno-chuyskiy\n",
      "City not found, skipping\n",
      "Processing Record 567 of Set 1 | lakes entrance\n",
      "Processing Record 568 of Set 1 | san andres\n",
      "Processing Record 569 of Set 1 | port hardy\n",
      "Processing Record 570 of Set 1 | constitucion\n",
      "Processing Record 571 of Set 1 | loandjili\n",
      "Processing Record 572 of Set 1 | makakilo city\n",
      "Processing Record 573 of Set 1 | sinop\n",
      "Processing Record 574 of Set 1 | ponta delgada\n",
      "Processing Record 575 of Set 1 | lere\n",
      "Processing Record 576 of Set 1 | madona\n",
      "Processing Record 577 of Set 1 | xiamen\n",
      "Processing Record 578 of Set 1 | puro\n",
      "Processing Record 579 of Set 1 | kichera\n",
      "Processing Record 580 of Set 1 | verkhnyaya inta\n",
      "Processing Record 581 of Set 1 | bom jesus\n",
      "Processing Record 582 of Set 1 | rabo de peixe\n",
      "Processing Record 583 of Set 1 | qiyang\n",
      "Processing Record 584 of Set 1 | shivrajpur\n",
      "Processing Record 585 of Set 1 | naples\n",
      "Processing Record 586 of Set 1 | santa cruz\n",
      "Processing Record 587 of Set 1 | camp verde\n",
      "Processing Record 588 of Set 1 | kenora\n",
      "Processing Record 589 of Set 1 | ossora\n",
      "Processing Record 590 of Set 1 | honningsvag\n",
      "Processing Record 591 of Set 1 | moindou\n",
      "Processing Record 592 of Set 1 | nantucket\n",
      "Processing Record 593 of Set 1 | sumbawanga\n",
      "Processing Record 594 of Set 1 | starobaltachevo\n",
      "Processing Record 595 of Set 1 | astana\n",
      "Processing Record 596 of Set 1 | pilikwe\n",
      "Processing Record 597 of Set 1 | lombardia\n",
      "Processing Record 598 of Set 1 | sakakah\n",
      "Processing Record 599 of Set 1 | korla\n",
      "Processing Record 600 of Set 1 | dicabisagan\n",
      "Processing Record 601 of Set 1 | bambanglipuro\n",
      "Processing Record 602 of Set 1 | mahajanga\n",
      "Processing Record 603 of Set 1 | lae\n",
      "Processing Record 604 of Set 1 | murgab\n",
      "Processing Record 605 of Set 1 | passo de camaragibe\n",
      "Processing Record 606 of Set 1 | homer\n",
      "Processing Record 607 of Set 1 | saryozek\n",
      "Processing Record 608 of Set 1 | mao\n",
      "Processing Record 609 of Set 1 | kinablangan\n",
      "Processing Record 610 of Set 1 | champerico\n",
      "Processing Record 611 of Set 1 | lucea\n",
      "Processing Record 612 of Set 1 | diveyevo\n",
      "Processing Record 613 of Set 1 | rio grande\n",
      "Processing Record 614 of Set 1 | progreso\n",
      "Processing Record 615 of Set 1 | the valley\n",
      "Processing Record 616 of Set 1 | san lawrenz\n",
      "Processing Record 617 of Set 1 | tarudant\n",
      "City not found, skipping\n",
      "Processing Record 618 of Set 1 | lagunas\n"
     ]
    }
   ],
   "source": [
    "# Set base url path and units to \"metric\"\n",
    "url = \"http://api.openweathermap.org/data/2.5/weather?\"\n",
    "units = \"metric\"\n",
    "\n",
    "# Build partial query URL\n",
    "query_url = f\"{url}appid={weather_api_key}&units={units}&q=\"\n",
    "\n",
    "# set up lists to hold response info\n",
    "my_cities = []\n",
    "lat = []\n",
    "lng = []\n",
    "temp_max = []\n",
    "humidity = []\n",
    "clouds = []\n",
    "wind_speed = []\n",
    "country = []\n",
    "date = []\n",
    "\n",
    "#Set Counter\n",
    "counter = 0\n",
    "\n",
    "#Print header for tracking run\n",
    "print(\"Beginning Data Retrieval\")\n",
    "print(\"______________________________\")\n",
    "\n",
    "# Loop through the list of cities and perform a request for data on each\n",
    "\n",
    "for city in cities:\n",
    "    \n",
    "    #Print tracking detail\n",
    "    print (\"Processing Record \"+str(counter)+\" of Set 1 | \"+city)\n",
    "    counter += 1\n",
    "    \n",
    "    try:\n",
    "        response = requests.get(query_url + city).json()\n",
    "        \n",
    "        # Add requested city fields\n",
    "        my_cities.append(response['name'])\n",
    "        lat.append(response['coord']['lat'])\n",
    "        lng.append(response['coord']['lon'])\n",
    "        temp_max.append(round((response['main']['temp_max']*1.8)+32,2))\n",
    "        humidity.append(response['main']['humidity'])\n",
    "        clouds.append(response['clouds']['all'])\n",
    "        wind_speed.append(response['wind']['speed'])\n",
    "        country.append(response['sys']['country'])\n",
    "        date.append(response['dt'])\n",
    "      \n",
    "    except:\n",
    "        #Print exception detail\n",
    "        print(\"City not found, skipping\")"
   ]
  },
  {
   "cell_type": "markdown",
   "metadata": {},
   "source": [
    "### Convert Raw Data to DataFrame\n",
    "* Export the city data into a .csv.\n",
    "* Display the DataFrame"
   ]
  },
  {
   "cell_type": "code",
   "execution_count": 76,
   "metadata": {},
   "outputs": [
    {
     "data": {
      "text/plain": [
       "{'coord': {'lon': 153.1, 'lat': -30.38},\n",
       " 'weather': [{'id': 500,\n",
       "   'main': 'Rain',\n",
       "   'description': 'light rain',\n",
       "   'icon': '10d'}],\n",
       " 'base': 'stations',\n",
       " 'main': {'temp': 17.9,\n",
       "  'feels_like': 15.14,\n",
       "  'temp_min': 17.78,\n",
       "  'temp_max': 18,\n",
       "  'pressure': 1023,\n",
       "  'humidity': 93},\n",
       " 'visibility': 10000,\n",
       " 'wind': {'speed': 7.2, 'deg': 230},\n",
       " 'rain': {'1h': 0.26},\n",
       " 'clouds': {'all': 75},\n",
       " 'dt': 1607671846,\n",
       " 'sys': {'type': 1,\n",
       "  'id': 9521,\n",
       "  'country': 'AU',\n",
       "  'sunrise': 1607625539,\n",
       "  'sunset': 1607676174},\n",
       " 'timezone': 39600,\n",
       " 'id': 2150163,\n",
       " 'name': 'Sawtell',\n",
       " 'cod': 200}"
      ]
     },
     "execution_count": 76,
     "metadata": {},
     "output_type": "execute_result"
    }
   ],
   "source": [
    "#Display sample JSON output to assist in defining dataframe\n",
    "requests.get(query_url + \"sawtell\").json()"
   ]
  },
  {
   "cell_type": "code",
   "execution_count": 257,
   "metadata": {},
   "outputs": [
    {
     "data": {
      "text/html": [
       "<div>\n",
       "<style scoped>\n",
       "    .dataframe tbody tr th:only-of-type {\n",
       "        vertical-align: middle;\n",
       "    }\n",
       "\n",
       "    .dataframe tbody tr th {\n",
       "        vertical-align: top;\n",
       "    }\n",
       "\n",
       "    .dataframe thead th {\n",
       "        text-align: right;\n",
       "    }\n",
       "</style>\n",
       "<table border=\"1\" class=\"dataframe\">\n",
       "  <thead>\n",
       "    <tr style=\"text-align: right;\">\n",
       "      <th></th>\n",
       "      <th>City</th>\n",
       "      <th>Lat</th>\n",
       "      <th>Lng</th>\n",
       "      <th>Max Temp</th>\n",
       "      <th>Humidity</th>\n",
       "      <th>Cloudiness</th>\n",
       "      <th>Wind Speed</th>\n",
       "      <th>Country</th>\n",
       "      <th>Date</th>\n",
       "    </tr>\n",
       "  </thead>\n",
       "  <tbody>\n",
       "    <tr>\n",
       "      <th>0</th>\n",
       "      <td>Sawtell</td>\n",
       "      <td>-30.38</td>\n",
       "      <td>153.10</td>\n",
       "      <td>64.40</td>\n",
       "      <td>93</td>\n",
       "      <td>75</td>\n",
       "      <td>7.20</td>\n",
       "      <td>AU</td>\n",
       "      <td>12/11/2020</td>\n",
       "    </tr>\n",
       "    <tr>\n",
       "      <th>1</th>\n",
       "      <td>Yenagoa</td>\n",
       "      <td>4.92</td>\n",
       "      <td>6.26</td>\n",
       "      <td>81.73</td>\n",
       "      <td>80</td>\n",
       "      <td>34</td>\n",
       "      <td>2.10</td>\n",
       "      <td>NG</td>\n",
       "      <td>12/11/2020</td>\n",
       "    </tr>\n",
       "    <tr>\n",
       "      <th>2</th>\n",
       "      <td>Hithadhoo</td>\n",
       "      <td>-0.60</td>\n",
       "      <td>73.08</td>\n",
       "      <td>82.11</td>\n",
       "      <td>76</td>\n",
       "      <td>14</td>\n",
       "      <td>5.38</td>\n",
       "      <td>MV</td>\n",
       "      <td>12/11/2020</td>\n",
       "    </tr>\n",
       "    <tr>\n",
       "      <th>3</th>\n",
       "      <td>Soavinandriana</td>\n",
       "      <td>-19.17</td>\n",
       "      <td>46.73</td>\n",
       "      <td>72.14</td>\n",
       "      <td>73</td>\n",
       "      <td>97</td>\n",
       "      <td>4.05</td>\n",
       "      <td>MG</td>\n",
       "      <td>12/11/2020</td>\n",
       "    </tr>\n",
       "    <tr>\n",
       "      <th>4</th>\n",
       "      <td>Bluff</td>\n",
       "      <td>-46.60</td>\n",
       "      <td>168.33</td>\n",
       "      <td>48.00</td>\n",
       "      <td>87</td>\n",
       "      <td>92</td>\n",
       "      <td>7.60</td>\n",
       "      <td>NZ</td>\n",
       "      <td>12/11/2020</td>\n",
       "    </tr>\n",
       "    <tr>\n",
       "      <th>...</th>\n",
       "      <td>...</td>\n",
       "      <td>...</td>\n",
       "      <td>...</td>\n",
       "      <td>...</td>\n",
       "      <td>...</td>\n",
       "      <td>...</td>\n",
       "      <td>...</td>\n",
       "      <td>...</td>\n",
       "      <td>...</td>\n",
       "    </tr>\n",
       "    <tr>\n",
       "      <th>566</th>\n",
       "      <td>Rio Grande</td>\n",
       "      <td>-32.03</td>\n",
       "      <td>-52.10</td>\n",
       "      <td>69.01</td>\n",
       "      <td>93</td>\n",
       "      <td>0</td>\n",
       "      <td>0.45</td>\n",
       "      <td>BR</td>\n",
       "      <td>12/11/2020</td>\n",
       "    </tr>\n",
       "    <tr>\n",
       "      <th>567</th>\n",
       "      <td>Progreso</td>\n",
       "      <td>21.28</td>\n",
       "      <td>-89.67</td>\n",
       "      <td>66.99</td>\n",
       "      <td>77</td>\n",
       "      <td>75</td>\n",
       "      <td>4.10</td>\n",
       "      <td>MX</td>\n",
       "      <td>12/11/2020</td>\n",
       "    </tr>\n",
       "    <tr>\n",
       "      <th>568</th>\n",
       "      <td>The Valley</td>\n",
       "      <td>18.22</td>\n",
       "      <td>-63.06</td>\n",
       "      <td>78.01</td>\n",
       "      <td>83</td>\n",
       "      <td>40</td>\n",
       "      <td>1.50</td>\n",
       "      <td>AI</td>\n",
       "      <td>12/11/2020</td>\n",
       "    </tr>\n",
       "    <tr>\n",
       "      <th>569</th>\n",
       "      <td>Saint Lawrence</td>\n",
       "      <td>36.06</td>\n",
       "      <td>14.20</td>\n",
       "      <td>60.80</td>\n",
       "      <td>77</td>\n",
       "      <td>75</td>\n",
       "      <td>7.20</td>\n",
       "      <td>MT</td>\n",
       "      <td>12/11/2020</td>\n",
       "    </tr>\n",
       "    <tr>\n",
       "      <th>570</th>\n",
       "      <td>Lagunas</td>\n",
       "      <td>-5.23</td>\n",
       "      <td>-75.68</td>\n",
       "      <td>72.88</td>\n",
       "      <td>96</td>\n",
       "      <td>100</td>\n",
       "      <td>0.46</td>\n",
       "      <td>PE</td>\n",
       "      <td>12/11/2020</td>\n",
       "    </tr>\n",
       "  </tbody>\n",
       "</table>\n",
       "<p>571 rows × 9 columns</p>\n",
       "</div>"
      ],
      "text/plain": [
       "               City    Lat     Lng  Max Temp  Humidity  Cloudiness  \\\n",
       "0           Sawtell -30.38  153.10     64.40        93          75   \n",
       "1           Yenagoa   4.92    6.26     81.73        80          34   \n",
       "2         Hithadhoo  -0.60   73.08     82.11        76          14   \n",
       "3    Soavinandriana -19.17   46.73     72.14        73          97   \n",
       "4             Bluff -46.60  168.33     48.00        87          92   \n",
       "..              ...    ...     ...       ...       ...         ...   \n",
       "566      Rio Grande -32.03  -52.10     69.01        93           0   \n",
       "567        Progreso  21.28  -89.67     66.99        77          75   \n",
       "568      The Valley  18.22  -63.06     78.01        83          40   \n",
       "569  Saint Lawrence  36.06   14.20     60.80        77          75   \n",
       "570         Lagunas  -5.23  -75.68     72.88        96         100   \n",
       "\n",
       "     Wind Speed Country        Date  \n",
       "0          7.20      AU  12/11/2020  \n",
       "1          2.10      NG  12/11/2020  \n",
       "2          5.38      MV  12/11/2020  \n",
       "3          4.05      MG  12/11/2020  \n",
       "4          7.60      NZ  12/11/2020  \n",
       "..          ...     ...         ...  \n",
       "566        0.45      BR  12/11/2020  \n",
       "567        4.10      MX  12/11/2020  \n",
       "568        1.50      AI  12/11/2020  \n",
       "569        7.20      MT  12/11/2020  \n",
       "570        0.46      PE  12/11/2020  \n",
       "\n",
       "[571 rows x 9 columns]"
      ]
     },
     "execution_count": 257,
     "metadata": {},
     "output_type": "execute_result"
    }
   ],
   "source": [
    "# create a data frame from to include City, Lat, Lng, Max Temp, Humidity, Cloudiness, Wind Speed, Country and Date\n",
    "\n",
    "#Set Dictionary\n",
    "weather_dict = {\n",
    "    \"City\": my_cities,\n",
    "    \"Lat\": lat,\n",
    "    \"Lng\": lng,    \n",
    "    \"Max Temp\": temp_max,\n",
    "    \"Humidity\" : humidity,\n",
    "    \"Cloudiness\" : clouds,\n",
    "    \"Wind Speed\" : wind_speed,\n",
    "    \"Country\" : country,\n",
    "    \"Date\" : date\n",
    "    }\n",
    "\n",
    "#Create weather dataframe\n",
    "weather_data_df = pd.DataFrame(weather_dict)\n",
    "\n",
    "# write the dataframe to a csv\n",
    "\n",
    "weather_data_df.to_csv(\"../output_data/cities.csv\")\n",
    "\n",
    "#View Dataframe\n",
    "weather_data_df"
   ]
  },
  {
   "cell_type": "code",
   "execution_count": null,
   "metadata": {},
   "outputs": [],
   "source": []
  },
  {
   "cell_type": "markdown",
   "metadata": {},
   "source": [
    "## Inspect the data and remove the cities where the humidity > 100%.\n",
    "----\n",
    "Skip this step if there are no cities that have humidity > 100%. "
   ]
  },
  {
   "cell_type": "code",
   "execution_count": 78,
   "metadata": {},
   "outputs": [
    {
     "data": {
      "text/html": [
       "<div>\n",
       "<style scoped>\n",
       "    .dataframe tbody tr th:only-of-type {\n",
       "        vertical-align: middle;\n",
       "    }\n",
       "\n",
       "    .dataframe tbody tr th {\n",
       "        vertical-align: top;\n",
       "    }\n",
       "\n",
       "    .dataframe thead th {\n",
       "        text-align: right;\n",
       "    }\n",
       "</style>\n",
       "<table border=\"1\" class=\"dataframe\">\n",
       "  <thead>\n",
       "    <tr style=\"text-align: right;\">\n",
       "      <th></th>\n",
       "      <th>Lat</th>\n",
       "      <th>Lng</th>\n",
       "      <th>Max Temp</th>\n",
       "      <th>Humidity</th>\n",
       "      <th>Cloudiness</th>\n",
       "      <th>Wind Speed</th>\n",
       "      <th>Date</th>\n",
       "    </tr>\n",
       "  </thead>\n",
       "  <tbody>\n",
       "    <tr>\n",
       "      <th>count</th>\n",
       "      <td>571.000000</td>\n",
       "      <td>571.000000</td>\n",
       "      <td>571.000000</td>\n",
       "      <td>571.00000</td>\n",
       "      <td>571.000000</td>\n",
       "      <td>571.000000</td>\n",
       "      <td>5.710000e+02</td>\n",
       "    </tr>\n",
       "    <tr>\n",
       "      <th>mean</th>\n",
       "      <td>19.641506</td>\n",
       "      <td>18.252399</td>\n",
       "      <td>52.822487</td>\n",
       "      <td>74.52014</td>\n",
       "      <td>53.739054</td>\n",
       "      <td>3.418827</td>\n",
       "      <td>1.607672e+09</td>\n",
       "    </tr>\n",
       "    <tr>\n",
       "      <th>std</th>\n",
       "      <td>33.008609</td>\n",
       "      <td>89.421499</td>\n",
       "      <td>29.942934</td>\n",
       "      <td>19.22811</td>\n",
       "      <td>40.691353</td>\n",
       "      <td>2.472354</td>\n",
       "      <td>6.223286e+01</td>\n",
       "    </tr>\n",
       "    <tr>\n",
       "      <th>min</th>\n",
       "      <td>-54.800000</td>\n",
       "      <td>-175.200000</td>\n",
       "      <td>-41.800000</td>\n",
       "      <td>10.00000</td>\n",
       "      <td>0.000000</td>\n",
       "      <td>0.090000</td>\n",
       "      <td>1.607671e+09</td>\n",
       "    </tr>\n",
       "    <tr>\n",
       "      <th>25%</th>\n",
       "      <td>-7.960000</td>\n",
       "      <td>-60.945000</td>\n",
       "      <td>33.205000</td>\n",
       "      <td>65.00000</td>\n",
       "      <td>4.000000</td>\n",
       "      <td>1.550000</td>\n",
       "      <td>1.607672e+09</td>\n",
       "    </tr>\n",
       "    <tr>\n",
       "      <th>50%</th>\n",
       "      <td>22.290000</td>\n",
       "      <td>23.370000</td>\n",
       "      <td>62.350000</td>\n",
       "      <td>78.00000</td>\n",
       "      <td>68.000000</td>\n",
       "      <td>2.850000</td>\n",
       "      <td>1.607672e+09</td>\n",
       "    </tr>\n",
       "    <tr>\n",
       "      <th>75%</th>\n",
       "      <td>47.835000</td>\n",
       "      <td>94.385000</td>\n",
       "      <td>77.020000</td>\n",
       "      <td>88.00000</td>\n",
       "      <td>94.000000</td>\n",
       "      <td>4.600000</td>\n",
       "      <td>1.607672e+09</td>\n",
       "    </tr>\n",
       "    <tr>\n",
       "      <th>max</th>\n",
       "      <td>78.220000</td>\n",
       "      <td>178.420000</td>\n",
       "      <td>96.800000</td>\n",
       "      <td>100.00000</td>\n",
       "      <td>100.000000</td>\n",
       "      <td>17.000000</td>\n",
       "      <td>1.607672e+09</td>\n",
       "    </tr>\n",
       "  </tbody>\n",
       "</table>\n",
       "</div>"
      ],
      "text/plain": [
       "              Lat         Lng    Max Temp   Humidity  Cloudiness  Wind Speed  \\\n",
       "count  571.000000  571.000000  571.000000  571.00000  571.000000  571.000000   \n",
       "mean    19.641506   18.252399   52.822487   74.52014   53.739054    3.418827   \n",
       "std     33.008609   89.421499   29.942934   19.22811   40.691353    2.472354   \n",
       "min    -54.800000 -175.200000  -41.800000   10.00000    0.000000    0.090000   \n",
       "25%     -7.960000  -60.945000   33.205000   65.00000    4.000000    1.550000   \n",
       "50%     22.290000   23.370000   62.350000   78.00000   68.000000    2.850000   \n",
       "75%     47.835000   94.385000   77.020000   88.00000   94.000000    4.600000   \n",
       "max     78.220000  178.420000   96.800000  100.00000  100.000000   17.000000   \n",
       "\n",
       "               Date  \n",
       "count  5.710000e+02  \n",
       "mean   1.607672e+09  \n",
       "std    6.223286e+01  \n",
       "min    1.607671e+09  \n",
       "25%    1.607672e+09  \n",
       "50%    1.607672e+09  \n",
       "75%    1.607672e+09  \n",
       "max    1.607672e+09  "
      ]
     },
     "execution_count": 78,
     "metadata": {},
     "output_type": "execute_result"
    }
   ],
   "source": [
    "#Checked and confirmed no humidity recorded at over 100%\n",
    "\n",
    "#Describe the dataframe to get Max stats on humidity\n",
    "weather_data_df.describe()"
   ]
  },
  {
   "cell_type": "code",
   "execution_count": null,
   "metadata": {},
   "outputs": [],
   "source": []
  },
  {
   "cell_type": "code",
   "execution_count": 79,
   "metadata": {},
   "outputs": [
    {
     "name": "stdout",
     "output_type": "stream",
     "text": [
      "[]\n"
     ]
    }
   ],
   "source": [
    "#  Get the indices of cities that have humidity over 100%.\n",
    "\n",
    "#set weather_data with an index\n",
    "index = weather_data_df.index\n",
    "\n",
    "#Isolate range we're wanting to exclude\n",
    "condition = weather_data_df['Humidity'] > 100\n",
    "\n",
    "#Name our group to exclude\n",
    "high_hum_indices = index[condition]\n",
    "\n",
    "#Convert our group to be excluded into a list\n",
    "high_hum_indices_list = high_hum_indices.tolist()\n",
    "\n",
    "\n",
    "#Print the list just to view results -     CP Note - Results was an empty set as no records exceeded 100% humidity\n",
    "print(high_hum_indices_list)"
   ]
  },
  {
   "cell_type": "code",
   "execution_count": null,
   "metadata": {},
   "outputs": [],
   "source": []
  },
  {
   "cell_type": "code",
   "execution_count": null,
   "metadata": {},
   "outputs": [],
   "source": []
  },
  {
   "cell_type": "code",
   "execution_count": 80,
   "metadata": {},
   "outputs": [
    {
     "data": {
      "text/html": [
       "<div>\n",
       "<style scoped>\n",
       "    .dataframe tbody tr th:only-of-type {\n",
       "        vertical-align: middle;\n",
       "    }\n",
       "\n",
       "    .dataframe tbody tr th {\n",
       "        vertical-align: top;\n",
       "    }\n",
       "\n",
       "    .dataframe thead th {\n",
       "        text-align: right;\n",
       "    }\n",
       "</style>\n",
       "<table border=\"1\" class=\"dataframe\">\n",
       "  <thead>\n",
       "    <tr style=\"text-align: right;\">\n",
       "      <th></th>\n",
       "      <th>City</th>\n",
       "      <th>Lat</th>\n",
       "      <th>Lng</th>\n",
       "      <th>Max Temp</th>\n",
       "      <th>Humidity</th>\n",
       "      <th>Cloudiness</th>\n",
       "      <th>Wind Speed</th>\n",
       "      <th>Country</th>\n",
       "      <th>Date</th>\n",
       "    </tr>\n",
       "  </thead>\n",
       "  <tbody>\n",
       "    <tr>\n",
       "      <th>0</th>\n",
       "      <td>Sawtell</td>\n",
       "      <td>-30.38</td>\n",
       "      <td>153.10</td>\n",
       "      <td>64.40</td>\n",
       "      <td>93</td>\n",
       "      <td>75</td>\n",
       "      <td>7.20</td>\n",
       "      <td>AU</td>\n",
       "      <td>1607671846</td>\n",
       "    </tr>\n",
       "    <tr>\n",
       "      <th>1</th>\n",
       "      <td>Yenagoa</td>\n",
       "      <td>4.92</td>\n",
       "      <td>6.26</td>\n",
       "      <td>81.73</td>\n",
       "      <td>80</td>\n",
       "      <td>34</td>\n",
       "      <td>2.10</td>\n",
       "      <td>NG</td>\n",
       "      <td>1607671846</td>\n",
       "    </tr>\n",
       "    <tr>\n",
       "      <th>2</th>\n",
       "      <td>Hithadhoo</td>\n",
       "      <td>-0.60</td>\n",
       "      <td>73.08</td>\n",
       "      <td>82.11</td>\n",
       "      <td>76</td>\n",
       "      <td>14</td>\n",
       "      <td>5.38</td>\n",
       "      <td>MV</td>\n",
       "      <td>1607671846</td>\n",
       "    </tr>\n",
       "    <tr>\n",
       "      <th>3</th>\n",
       "      <td>Soavinandriana</td>\n",
       "      <td>-19.17</td>\n",
       "      <td>46.73</td>\n",
       "      <td>72.14</td>\n",
       "      <td>73</td>\n",
       "      <td>97</td>\n",
       "      <td>4.05</td>\n",
       "      <td>MG</td>\n",
       "      <td>1607671846</td>\n",
       "    </tr>\n",
       "    <tr>\n",
       "      <th>4</th>\n",
       "      <td>Bluff</td>\n",
       "      <td>-46.60</td>\n",
       "      <td>168.33</td>\n",
       "      <td>48.00</td>\n",
       "      <td>87</td>\n",
       "      <td>92</td>\n",
       "      <td>7.60</td>\n",
       "      <td>NZ</td>\n",
       "      <td>1607671847</td>\n",
       "    </tr>\n",
       "    <tr>\n",
       "      <th>...</th>\n",
       "      <td>...</td>\n",
       "      <td>...</td>\n",
       "      <td>...</td>\n",
       "      <td>...</td>\n",
       "      <td>...</td>\n",
       "      <td>...</td>\n",
       "      <td>...</td>\n",
       "      <td>...</td>\n",
       "      <td>...</td>\n",
       "    </tr>\n",
       "    <tr>\n",
       "      <th>566</th>\n",
       "      <td>Rio Grande</td>\n",
       "      <td>-32.03</td>\n",
       "      <td>-52.10</td>\n",
       "      <td>69.01</td>\n",
       "      <td>93</td>\n",
       "      <td>0</td>\n",
       "      <td>0.45</td>\n",
       "      <td>BR</td>\n",
       "      <td>1607671929</td>\n",
       "    </tr>\n",
       "    <tr>\n",
       "      <th>567</th>\n",
       "      <td>Progreso</td>\n",
       "      <td>21.28</td>\n",
       "      <td>-89.67</td>\n",
       "      <td>66.99</td>\n",
       "      <td>77</td>\n",
       "      <td>75</td>\n",
       "      <td>4.10</td>\n",
       "      <td>MX</td>\n",
       "      <td>1607671694</td>\n",
       "    </tr>\n",
       "    <tr>\n",
       "      <th>568</th>\n",
       "      <td>The Valley</td>\n",
       "      <td>18.22</td>\n",
       "      <td>-63.06</td>\n",
       "      <td>78.01</td>\n",
       "      <td>83</td>\n",
       "      <td>40</td>\n",
       "      <td>1.50</td>\n",
       "      <td>AI</td>\n",
       "      <td>1607671816</td>\n",
       "    </tr>\n",
       "    <tr>\n",
       "      <th>569</th>\n",
       "      <td>Saint Lawrence</td>\n",
       "      <td>36.06</td>\n",
       "      <td>14.20</td>\n",
       "      <td>60.80</td>\n",
       "      <td>77</td>\n",
       "      <td>75</td>\n",
       "      <td>7.20</td>\n",
       "      <td>MT</td>\n",
       "      <td>1607671929</td>\n",
       "    </tr>\n",
       "    <tr>\n",
       "      <th>570</th>\n",
       "      <td>Lagunas</td>\n",
       "      <td>-5.23</td>\n",
       "      <td>-75.68</td>\n",
       "      <td>72.88</td>\n",
       "      <td>96</td>\n",
       "      <td>100</td>\n",
       "      <td>0.46</td>\n",
       "      <td>PE</td>\n",
       "      <td>1607671929</td>\n",
       "    </tr>\n",
       "  </tbody>\n",
       "</table>\n",
       "<p>571 rows × 9 columns</p>\n",
       "</div>"
      ],
      "text/plain": [
       "               City    Lat     Lng  Max Temp  Humidity  Cloudiness  \\\n",
       "0           Sawtell -30.38  153.10     64.40        93          75   \n",
       "1           Yenagoa   4.92    6.26     81.73        80          34   \n",
       "2         Hithadhoo  -0.60   73.08     82.11        76          14   \n",
       "3    Soavinandriana -19.17   46.73     72.14        73          97   \n",
       "4             Bluff -46.60  168.33     48.00        87          92   \n",
       "..              ...    ...     ...       ...       ...         ...   \n",
       "566      Rio Grande -32.03  -52.10     69.01        93           0   \n",
       "567        Progreso  21.28  -89.67     66.99        77          75   \n",
       "568      The Valley  18.22  -63.06     78.01        83          40   \n",
       "569  Saint Lawrence  36.06   14.20     60.80        77          75   \n",
       "570         Lagunas  -5.23  -75.68     72.88        96         100   \n",
       "\n",
       "     Wind Speed Country        Date  \n",
       "0          7.20      AU  1607671846  \n",
       "1          2.10      NG  1607671846  \n",
       "2          5.38      MV  1607671846  \n",
       "3          4.05      MG  1607671846  \n",
       "4          7.60      NZ  1607671847  \n",
       "..          ...     ...         ...  \n",
       "566        0.45      BR  1607671929  \n",
       "567        4.10      MX  1607671694  \n",
       "568        1.50      AI  1607671816  \n",
       "569        7.20      MT  1607671929  \n",
       "570        0.46      PE  1607671929  \n",
       "\n",
       "[571 rows x 9 columns]"
      ]
     },
     "execution_count": 80,
     "metadata": {},
     "output_type": "execute_result"
    }
   ],
   "source": [
    "# Make a new DataFrame equal to the city data to drop all humidity outliers by index.\n",
    "# Passing \"inplace=False\" will make a copy of the city_data DataFrame, which we call \"clean_city_data\".\n",
    "\n",
    "#CP Note - No records were dropped as Humidity never exceeded 100%. count remains at 571\n",
    "\n",
    "clean_weather_data_df = weather_data_df.drop(high_hum_indices,inplace=False)\n",
    "clean_weather_data_df"
   ]
  },
  {
   "cell_type": "code",
   "execution_count": null,
   "metadata": {},
   "outputs": [],
   "source": [
    "\n"
   ]
  },
  {
   "cell_type": "markdown",
   "metadata": {},
   "source": [
    "## Plotting the Data\n",
    "* Use proper labeling of the plots using plot titles (including date of analysis) and axes labels.\n",
    "* Save the plotted figures as .pngs."
   ]
  },
  {
   "cell_type": "markdown",
   "metadata": {},
   "source": [
    "## Latitude vs. Temperature Plot"
   ]
  },
  {
   "cell_type": "code",
   "execution_count": null,
   "metadata": {},
   "outputs": [],
   "source": [
    "#Set today's date as a variable\n",
    "date = pd.to_datetime(\"today\").strftime(\"%m/%d/%Y\")"
   ]
  },
  {
   "cell_type": "code",
   "execution_count": 236,
   "metadata": {},
   "outputs": [
    {
     "data": {
      "image/png": "[encoded data removed]",
      "text/plain": [
       "<Figure size 864x504 with 1 Axes>"
      ]
     },
     "metadata": {
      "needs_background": "light"
     },
     "output_type": "display_data"
    }
   ],
   "source": [
    "#Charactorize figure size/layout                       \n",
    "fig, ax = plt.subplots(figsize=(12, 7))\n",
    "\n",
    "#Build and format scatter plot based on mean values drawn from the Capomulin_df_all dataframe\n",
    "ax.scatter(clean_weather_data_df['Lat'],clean_weather_data_df['Max Temp'],s=30,edgecolors='black', color=\"green\")\n",
    "\n",
    "#define title and Lable axis\n",
    "ax.set_title('Latitude vs. Temperature Plot on '+date,fontsize =18)\n",
    "plt.xlabel('Latitude',fontsize =16)\n",
    "plt.ylabel('Max Temperature (F)',fontsize =16)\n",
    "marker_size = .05\n",
    "\n",
    "#Add a grid\n",
    "plt.grid()\n",
    "\n",
    "#Establish plot limits\n",
    "plt.ylim(-45, 105)\n",
    "\n",
    "#Save to .png file\n",
    "fig.savefig(\"../output_data/latitude_vs_max_temp.png\")\n",
    "\n",
    "plt.show()\n",
    "\n",
    "# Plot Observation(s) - Plot shows an expected higher temperature near the equator. The significance of the colder northern\n",
    "# readings is likly to to the time of year in the north (nearing winter)."
   ]
  },
  {
   "cell_type": "code",
   "execution_count": null,
   "metadata": {},
   "outputs": [],
   "source": []
  },
  {
   "cell_type": "markdown",
   "metadata": {},
   "source": [
    "## Latitude vs. Humidity Plot"
   ]
  },
  {
   "cell_type": "code",
   "execution_count": 93,
   "metadata": {},
   "outputs": [
    {
     "data": {
      "image/png": "[encoded data removed]",
      "text/plain": [
       "<Figure size 864x504 with 1 Axes>"
      ]
     },
     "metadata": {
      "needs_background": "light"
     },
     "output_type": "display_data"
    }
   ],
   "source": [
    "#Charactorize figure size/layout                       \n",
    "fig, ax = plt.subplots(figsize=(12, 7))\n",
    "\n",
    "#Build and format scatter plot based on mean values drawn from the Capomulin_df_all dataframe\n",
    "ax.scatter(clean_weather_data_df['Lat'],clean_weather_data_df['Humidity'],s=30,edgecolors='black', color=\"green\")\n",
    "\n",
    "#define title and Lable axis\n",
    "ax.set_title('Latitude vs. Humidity Plot on '+date,fontsize =18)\n",
    "plt.xlabel('Latitude',fontsize =16)\n",
    "plt.ylabel('Humidity (%)',fontsize =16)\n",
    "marker_size = .05\n",
    "\n",
    "#Add a grid\n",
    "plt.grid()\n",
    "\n",
    "#Establish plot limits\n",
    "plt.ylim(10, 105)\n",
    "\n",
    "#Save to .png file\n",
    "fig.savefig(\"../output_data/latitude_vs_humidity.png\")\n",
    "\n",
    "plt.show()\n",
    "\n",
    "# Plot Observation(s) - Not an apparant pattern other than to note humidity registered on this day and time tended\n",
    "#to be 60% or higher"
   ]
  },
  {
   "cell_type": "code",
   "execution_count": null,
   "metadata": {},
   "outputs": [],
   "source": []
  },
  {
   "cell_type": "markdown",
   "metadata": {},
   "source": [
    "## Latitude vs. Cloudiness Plot"
   ]
  },
  {
   "cell_type": "code",
   "execution_count": 94,
   "metadata": {},
   "outputs": [
    {
     "data": {
      "image/png": "[encoded data removed]",
      "text/plain": [
       "<Figure size 864x504 with 1 Axes>"
      ]
     },
     "metadata": {
      "needs_background": "light"
     },
     "output_type": "display_data"
    }
   ],
   "source": [
    "#Charactorize figure size/layout                       \n",
    "fig, ax = plt.subplots(figsize=(12, 7))\n",
    "\n",
    "#Build and format scatter plot based on mean values drawn from the Capomulin_df_all dataframe\n",
    "ax.scatter(clean_weather_data_df['Lat'],clean_weather_data_df['Cloudiness'],s=30,edgecolors='black', color=\"green\")\n",
    "\n",
    "#define title and Lable axis\n",
    "ax.set_title('Latitude vs. Cloudiness Plot on '+date,fontsize =18)\n",
    "plt.xlabel('Latitude',fontsize =16)\n",
    "plt.ylabel('Cloudiness (%)',fontsize =16)\n",
    "marker_size = .05\n",
    "\n",
    "#Add a grid\n",
    "plt.grid()\n",
    "\n",
    "#Establish plot limits\n",
    "plt.ylim(-5, 105)\n",
    "\n",
    "#Save to .png file\n",
    "fig.savefig(\"../output_data/latitude_vs_cloudiness.png\")\n",
    "\n",
    "plt.show()\n",
    "\n",
    "# Plot Observation(s) - Not an apparant pattern other than to note a substantial number of locations appeared either\n",
    "#clear or 100% cloudy."
   ]
  },
  {
   "cell_type": "code",
   "execution_count": null,
   "metadata": {},
   "outputs": [],
   "source": []
  },
  {
   "cell_type": "markdown",
   "metadata": {},
   "source": [
    "## Latitude vs. Wind Speed Plot"
   ]
  },
  {
   "cell_type": "code",
   "execution_count": 235,
   "metadata": {},
   "outputs": [
    {
     "data": {
      "image/png": "[encoded data removed]",
      "text/plain": [
       "<Figure size 864x504 with 1 Axes>"
      ]
     },
     "metadata": {
      "needs_background": "light"
     },
     "output_type": "display_data"
    }
   ],
   "source": [
    "#Charactorize figure size/layout                       \n",
    "fig, ax = plt.subplots(figsize=(12, 7))\n",
    "\n",
    "#Build and format scatter plot based on mean values drawn from the Capomulin_df_all dataframe\n",
    "ax.scatter(clean_weather_data_df['Lat'],clean_weather_data_df['Wind Speed'],s=30,edgecolors='black', color=\"green\")\n",
    "\n",
    "#define title and Lable axis\n",
    "ax.set_title('Latitude vs. Wind Speed Plot on '+date,fontsize =18)\n",
    "plt.xlabel('Latitude',fontsize =16)\n",
    "plt.ylabel('Wind Speed',fontsize =16)\n",
    "marker_size = .05\n",
    "\n",
    "#Add a grid\n",
    "plt.grid()\n",
    "\n",
    "#Establish plot limits\n",
    "#plt.ylim(-5, 16)\n",
    "\n",
    "#Save to .png file\n",
    "fig.savefig(\"../output_data/latitude_vs_wind_speed.png\")\n",
    "\n",
    "plt.show()\n",
    "\n",
    "# Plot Observation(s) - Not an apparant pattern other than to note a substantial number of locations appeared to\n",
    "#have winds of 5 or less."
   ]
  },
  {
   "cell_type": "code",
   "execution_count": null,
   "metadata": {},
   "outputs": [],
   "source": []
  },
  {
   "cell_type": "markdown",
   "metadata": {},
   "source": [
    "## Linear Regression"
   ]
  },
  {
   "cell_type": "markdown",
   "metadata": {},
   "source": [
    "####  Northern Hemisphere - Max Temp vs. Latitude Linear Regression"
   ]
  },
  {
   "cell_type": "code",
   "execution_count": 195,
   "metadata": {},
   "outputs": [],
   "source": [
    "#Narrow Latitude to Northern Hemisphere\n",
    "NH_clean_weather_data_df = clean_weather_data_df[(clean_weather_data_df['Lat'] >=0)]"
   ]
  },
  {
   "cell_type": "code",
   "execution_count": 196,
   "metadata": {},
   "outputs": [
    {
     "data": {
      "text/plain": [
       "-0.88888"
      ]
     },
     "execution_count": 196,
     "metadata": {},
     "output_type": "execute_result"
    }
   ],
   "source": [
    "#Calculate correlation coefficient\n",
    "Correlation_Coef = round(st.pearsonr(NH_clean_weather_data_df['Lat'],NH_clean_weather_data_df['Max Temp'])[0],5)\n",
    "Correlation_Coef"
   ]
  },
  {
   "cell_type": "code",
   "execution_count": 197,
   "metadata": {},
   "outputs": [
    {
     "data": {
      "text/html": [
       "<div>\n",
       "<style scoped>\n",
       "    .dataframe tbody tr th:only-of-type {\n",
       "        vertical-align: middle;\n",
       "    }\n",
       "\n",
       "    .dataframe tbody tr th {\n",
       "        vertical-align: top;\n",
       "    }\n",
       "\n",
       "    .dataframe thead th {\n",
       "        text-align: right;\n",
       "    }\n",
       "</style>\n",
       "<table border=\"1\" class=\"dataframe\">\n",
       "  <thead>\n",
       "    <tr style=\"text-align: right;\">\n",
       "      <th></th>\n",
       "      <th>Corr Analysis</th>\n",
       "      <th>Slope</th>\n",
       "      <th>Intercept</th>\n",
       "      <th>rValueCorr_Coef</th>\n",
       "      <th>PndasCorr_Coef</th>\n",
       "      <th>StdErr</th>\n",
       "    </tr>\n",
       "  </thead>\n",
       "  <tbody>\n",
       "    <tr>\n",
       "      <th>0</th>\n",
       "      <td>NH Max Temp vs Lat</td>\n",
       "      <td>{-1.4175763980827538}</td>\n",
       "      <td>{98.33681448408365}</td>\n",
       "      <td>{-0.8888840576248028}</td>\n",
       "      <td>{-0.88888}</td>\n",
       "      <td>{0.03723589778699695}</td>\n",
       "    </tr>\n",
       "  </tbody>\n",
       "</table>\n",
       "</div>"
      ],
      "text/plain": [
       "        Corr Analysis                  Slope            Intercept  \\\n",
       "0  NH Max Temp vs Lat  {-1.4175763980827538}  {98.33681448408365}   \n",
       "\n",
       "         rValueCorr_Coef PndasCorr_Coef                 StdErr  \n",
       "0  {-0.8888840576248028}     {-0.88888}  {0.03723589778699695}  "
      ]
     },
     "execution_count": 197,
     "metadata": {},
     "output_type": "execute_result"
    }
   ],
   "source": [
    "#Calulate linear formula\n",
    "x_values = NH_clean_weather_data_df['Lat']\n",
    "y_values = NH_clean_weather_data_df['Max Temp']\n",
    "\n",
    "(slope, intercept, rvalue, pvalue, stderr) = linregress(x_values, y_values)\n",
    "regress_values = x_values * slope + intercept\n",
    "\n",
    "#Record results in a dataframe\n",
    "linear_formula_Df = pd.DataFrame({\n",
    "    \"Corr Analysis\":\"NH Max Temp vs Lat\",\n",
    "    \"Slope\":{slope},\n",
    "    \"Intercept\":{intercept},\n",
    "    \"rValueCorr_Coef\":{rvalue},\n",
    "    \"PndasCorr_Coef\":{Correlation_Coef},\n",
    "    \"StdErr\":{stderr} \n",
    "} ,index=[0] )\n",
    "linear_formula_Df"
   ]
  },
  {
   "cell_type": "code",
   "execution_count": 198,
   "metadata": {},
   "outputs": [
    {
     "data": {
      "text/plain": [
       "'y = -1.42x + 98.34'"
      ]
     },
     "execution_count": 198,
     "metadata": {},
     "output_type": "execute_result"
    }
   ],
   "source": [
    "#Create text for plot overlay\n",
    "line_equation = \"y = \" + str(round(slope,2)) + \"x + \" + str(round(intercept,2))\n",
    "line_equation"
   ]
  },
  {
   "cell_type": "code",
   "execution_count": 199,
   "metadata": {},
   "outputs": [
    {
     "data": {
      "image/png": "[encoded data removed]",
      "text/plain": [
       "<Figure size 1080x576 with 1 Axes>"
      ]
     },
     "metadata": {
      "needs_background": "light"
     },
     "output_type": "display_data"
    }
   ],
   "source": [
    "#Plot the linear regression model on top of the scatter plot\n",
    "\n",
    "# Generate a scatter plot of Max Temp vs. Latitude\n",
    "# Add the linear regreassion and line to the plot\n",
    "\n",
    "#Charactorize figure size/layout                       \n",
    "fig1, ax1 = plt.subplots(figsize=(15, 8))\n",
    "\n",
    "#Build and format scatter plot based on mean values drawn from the clean_weather_data_df dataframe\n",
    "plt.scatter(NH_clean_weather_data_df['Lat'],NH_clean_weather_data_df['Max Temp'],s=30, edgecolors='black', color=\"green\")\n",
    "\n",
    "#define title and Lable axis\n",
    "plt.title('Northern Hemisphere - Max Temp vs. Latitude Linear Regression '+date,fontsize =18)\n",
    "plt.xlabel('Latitude',fontsize =16)\n",
    "plt.ylabel('Max Temp',fontsize =16)\n",
    "marker_size = 12\n",
    "\n",
    "#Establish plot limits\n",
    "plt.ylim(-45, 105)\n",
    "\n",
    "# Add plot and text of linear regression model \n",
    "plt.plot(x_values,regress_values,\"r-\")\n",
    "ax1.annotate(line_equation, xy=(35, 28), xycoords='data',xytext=(0.7, 0.8), textcoords='axes fraction',\n",
    "             horizontalalignment='right', verticalalignment='top',fontsize=20,color=\"blue\")\n",
    "\n",
    "\n",
    "#Save image for potential reference in the report\n",
    "plt.savefig(\"../output_data/NorthernHem_Max_Temp_vs_Lat_Linear_Regression.png\")\n",
    "\n",
    "plt.show()"
   ]
  },
  {
   "cell_type": "code",
   "execution_count": null,
   "metadata": {},
   "outputs": [],
   "source": []
  },
  {
   "cell_type": "markdown",
   "metadata": {},
   "source": [
    "####  Southern Hemisphere - Max Temp vs. Latitude Linear Regression"
   ]
  },
  {
   "cell_type": "code",
   "execution_count": 200,
   "metadata": {},
   "outputs": [],
   "source": [
    "#Narrow Latitude to Southern Hemisphere\n",
    "SH_clean_weather_data_df = clean_weather_data_df[(clean_weather_data_df['Lat'] <=0)]"
   ]
  },
  {
   "cell_type": "code",
   "execution_count": 201,
   "metadata": {},
   "outputs": [
    {
     "data": {
      "text/plain": [
       "0.6172"
      ]
     },
     "execution_count": 201,
     "metadata": {},
     "output_type": "execute_result"
    }
   ],
   "source": [
    "#Calculate correlation coefficient\n",
    "Correlation_Coef = round(st.pearsonr(SH_clean_weather_data_df['Lat'],SH_clean_weather_data_df['Max Temp'])[0],5)\n",
    "Correlation_Coef"
   ]
  },
  {
   "cell_type": "code",
   "execution_count": 202,
   "metadata": {},
   "outputs": [
    {
     "data": {
      "text/html": [
       "<div>\n",
       "<style scoped>\n",
       "    .dataframe tbody tr th:only-of-type {\n",
       "        vertical-align: middle;\n",
       "    }\n",
       "\n",
       "    .dataframe tbody tr th {\n",
       "        vertical-align: top;\n",
       "    }\n",
       "\n",
       "    .dataframe thead th {\n",
       "        text-align: right;\n",
       "    }\n",
       "</style>\n",
       "<table border=\"1\" class=\"dataframe\">\n",
       "  <thead>\n",
       "    <tr style=\"text-align: right;\">\n",
       "      <th></th>\n",
       "      <th>Corr Analysis</th>\n",
       "      <th>Slope</th>\n",
       "      <th>Intercept</th>\n",
       "      <th>rValueCorr_Coef</th>\n",
       "      <th>PndasCorr_Coef</th>\n",
       "      <th>StdErr</th>\n",
       "    </tr>\n",
       "  </thead>\n",
       "  <tbody>\n",
       "    <tr>\n",
       "      <th>0</th>\n",
       "      <td>SH Max Temp vs Lat</td>\n",
       "      <td>{0.5121436322249008}</td>\n",
       "      <td>{82.95601771142287}</td>\n",
       "      <td>{0.6172023990212405}</td>\n",
       "      <td>{0.6172}</td>\n",
       "      <td>{0.048394417844963566}</td>\n",
       "    </tr>\n",
       "  </tbody>\n",
       "</table>\n",
       "</div>"
      ],
      "text/plain": [
       "        Corr Analysis                 Slope            Intercept  \\\n",
       "0  SH Max Temp vs Lat  {0.5121436322249008}  {82.95601771142287}   \n",
       "\n",
       "        rValueCorr_Coef PndasCorr_Coef                  StdErr  \n",
       "0  {0.6172023990212405}       {0.6172}  {0.048394417844963566}  "
      ]
     },
     "execution_count": 202,
     "metadata": {},
     "output_type": "execute_result"
    }
   ],
   "source": [
    "#Calulate linear formula\n",
    "x_values = SH_clean_weather_data_df['Lat']\n",
    "y_values = SH_clean_weather_data_df['Max Temp']\n",
    "\n",
    "(slope, intercept, rvalue, pvalue, stderr) = linregress(x_values, y_values)\n",
    "regress_values = x_values * slope + intercept\n",
    "\n",
    "#Record results in a dataframe\n",
    "linear_formula_Df = pd.DataFrame({\n",
    "    \"Corr Analysis\":\"SH Max Temp vs Lat\",\n",
    "    \"Slope\":{slope},\n",
    "    \"Intercept\":{intercept},\n",
    "    \"rValueCorr_Coef\":{rvalue},\n",
    "    \"PndasCorr_Coef\":{Correlation_Coef},\n",
    "    \"StdErr\":{stderr} \n",
    "} ,index=[0] )\n",
    "linear_formula_Df"
   ]
  },
  {
   "cell_type": "code",
   "execution_count": 203,
   "metadata": {},
   "outputs": [
    {
     "data": {
      "text/plain": [
       "'y = 0.51x + 82.96'"
      ]
     },
     "execution_count": 203,
     "metadata": {},
     "output_type": "execute_result"
    }
   ],
   "source": [
    "#Create text for plot overlay\n",
    "line_equation = \"y = \" + str(round(slope,2)) + \"x + \" + str(round(intercept,2))\n",
    "line_equation"
   ]
  },
  {
   "cell_type": "code",
   "execution_count": 204,
   "metadata": {},
   "outputs": [
    {
     "data": {
      "image/png": "[encoded data removed]",
      "text/plain": [
       "<Figure size 1080x576 with 1 Axes>"
      ]
     },
     "metadata": {
      "needs_background": "light"
     },
     "output_type": "display_data"
    }
   ],
   "source": [
    "#Plot the linear regression model on top of the scatter plot\n",
    "\n",
    "# Generate a scatter plot of Max Temp vs. Latitude\n",
    "# Add the linear regreassion and line to the plot\n",
    "\n",
    "#Charactorize figure size/layout                       \n",
    "fig1, ax1 = plt.subplots(figsize=(15, 8))\n",
    "\n",
    "#Build and format scatter plot based on mean values drawn from the clean_weather_data_df dataframe\n",
    "plt.scatter(SH_clean_weather_data_df['Lat'],SH_clean_weather_data_df['Max Temp'],s=30, edgecolors='black', color=\"green\")\n",
    "\n",
    "#define title and Lable axis\n",
    "plt.title('Southern Hemisphere - Max Temp vs. Latitude Linear Regression '+date,fontsize =18)\n",
    "plt.xlabel('Latitude',fontsize =16)\n",
    "plt.ylabel('Max Temp',fontsize =16)\n",
    "marker_size = 12\n",
    "\n",
    "#Establish plot limits\n",
    "plt.ylim(35, 105)\n",
    "\n",
    "# Add plot and text of linear regression model \n",
    "plt.plot(x_values,regress_values,\"r-\")\n",
    "ax1.annotate(line_equation, xy=(-55, 38), xycoords='data',xytext=(.3, 0.8), textcoords='axes fraction',\n",
    "             horizontalalignment='right', verticalalignment='top',fontsize=20,color=\"blue\")\n",
    "\n",
    "\n",
    "#Save image for potential reference in the report\n",
    "plt.savefig(\"../output_data/SouthernHem_Max_Temp_vs_Lat_Linear_Regression.png\")\n",
    "\n",
    "plt.show()"
   ]
  },
  {
   "cell_type": "code",
   "execution_count": null,
   "metadata": {},
   "outputs": [],
   "source": [
    "# Northern/Southern Hemisphere Regression Observation(s) - Both plot depicted a rising temperature as they approached\n",
    "# the equator. Northern temperatures were colder due to onset of winter"
   ]
  },
  {
   "cell_type": "code",
   "execution_count": null,
   "metadata": {},
   "outputs": [],
   "source": []
  },
  {
   "cell_type": "markdown",
   "metadata": {},
   "source": [
    "####  Northern Hemisphere - Humidity (%) vs. Latitude Linear Regression"
   ]
  },
  {
   "cell_type": "code",
   "execution_count": 205,
   "metadata": {},
   "outputs": [],
   "source": [
    "#Narrow Latitude to Northern Hemisphere\n",
    "NH_clean_weather_data_df = clean_weather_data_df[(clean_weather_data_df['Lat'] >=0)]"
   ]
  },
  {
   "cell_type": "code",
   "execution_count": 206,
   "metadata": {},
   "outputs": [
    {
     "data": {
      "text/plain": [
       "0.42153"
      ]
     },
     "execution_count": 206,
     "metadata": {},
     "output_type": "execute_result"
    }
   ],
   "source": [
    "#Calculate correlation coefficient\n",
    "Correlation_Coef = round(st.pearsonr(NH_clean_weather_data_df['Lat'],NH_clean_weather_data_df['Humidity'])[0],5)\n",
    "Correlation_Coef"
   ]
  },
  {
   "cell_type": "code",
   "execution_count": 207,
   "metadata": {},
   "outputs": [
    {
     "data": {
      "text/html": [
       "<div>\n",
       "<style scoped>\n",
       "    .dataframe tbody tr th:only-of-type {\n",
       "        vertical-align: middle;\n",
       "    }\n",
       "\n",
       "    .dataframe tbody tr th {\n",
       "        vertical-align: top;\n",
       "    }\n",
       "\n",
       "    .dataframe thead th {\n",
       "        text-align: right;\n",
       "    }\n",
       "</style>\n",
       "<table border=\"1\" class=\"dataframe\">\n",
       "  <thead>\n",
       "    <tr style=\"text-align: right;\">\n",
       "      <th></th>\n",
       "      <th>Corr Analysis</th>\n",
       "      <th>Slope</th>\n",
       "      <th>Intercept</th>\n",
       "      <th>rValueCorr_Coef</th>\n",
       "      <th>PndasCorr_Coef</th>\n",
       "      <th>StdErr</th>\n",
       "    </tr>\n",
       "  </thead>\n",
       "  <tbody>\n",
       "    <tr>\n",
       "      <th>0</th>\n",
       "      <td>NH Humidity vs Lat</td>\n",
       "      <td>{0.4291589719495433}</td>\n",
       "      <td>{58.68282772937168}</td>\n",
       "      <td>{0.42152964658271924}</td>\n",
       "      <td>{0.42153}</td>\n",
       "      <td>{0.04705201437489204}</td>\n",
       "    </tr>\n",
       "  </tbody>\n",
       "</table>\n",
       "</div>"
      ],
      "text/plain": [
       "        Corr Analysis                 Slope            Intercept  \\\n",
       "0  NH Humidity vs Lat  {0.4291589719495433}  {58.68282772937168}   \n",
       "\n",
       "         rValueCorr_Coef PndasCorr_Coef                 StdErr  \n",
       "0  {0.42152964658271924}      {0.42153}  {0.04705201437489204}  "
      ]
     },
     "execution_count": 207,
     "metadata": {},
     "output_type": "execute_result"
    }
   ],
   "source": [
    "#Calulate linear formula\n",
    "x_values = NH_clean_weather_data_df['Lat']\n",
    "y_values = NH_clean_weather_data_df['Humidity']\n",
    "\n",
    "(slope, intercept, rvalue, pvalue, stderr) = linregress(x_values, y_values)\n",
    "regress_values = x_values * slope + intercept\n",
    "\n",
    "#Record results in a dataframe\n",
    "linear_formula_Df = pd.DataFrame({\n",
    "    \"Corr Analysis\":\"NH Humidity vs Lat\",\n",
    "    \"Slope\":{slope},\n",
    "    \"Intercept\":{intercept},\n",
    "    \"rValueCorr_Coef\":{rvalue},\n",
    "    \"PndasCorr_Coef\":{Correlation_Coef},\n",
    "    \"StdErr\":{stderr} \n",
    "} ,index=[0] )\n",
    "linear_formula_Df"
   ]
  },
  {
   "cell_type": "code",
   "execution_count": 208,
   "metadata": {},
   "outputs": [
    {
     "data": {
      "text/plain": [
       "'y = 0.43x + 58.68'"
      ]
     },
     "execution_count": 208,
     "metadata": {},
     "output_type": "execute_result"
    }
   ],
   "source": [
    "#Create text for plot overlay\n",
    "line_equation = \"y = \" + str(round(slope,2)) + \"x + \" + str(round(intercept,2))\n",
    "line_equation"
   ]
  },
  {
   "cell_type": "code",
   "execution_count": 209,
   "metadata": {},
   "outputs": [
    {
     "data": {
      "image/png": "[encoded data removed]",
      "text/plain": [
       "<Figure size 1080x576 with 1 Axes>"
      ]
     },
     "metadata": {
      "needs_background": "light"
     },
     "output_type": "display_data"
    }
   ],
   "source": [
    "#Plot the linear regression model on top of the scatter plot\n",
    "\n",
    "# Generate a scatter plot of Humidity vs. Latitude\n",
    "# Add the linear regreassion and line to the plot\n",
    "\n",
    "#Charactorize figure size/layout                       \n",
    "fig1, ax1 = plt.subplots(figsize=(15, 8))\n",
    "\n",
    "#Build and format scatter plot based on mean values drawn from the clean_weather_data_df dataframe\n",
    "plt.scatter(NH_clean_weather_data_df['Lat'],NH_clean_weather_data_df['Humidity'],s=30, edgecolors='black', color=\"green\")\n",
    "\n",
    "#define title and Lable axis\n",
    "plt.title('Northern Hemisphere - Humidity vs. Latitude Linear Regression '+date,fontsize =18)\n",
    "plt.xlabel('Latitude',fontsize =16)\n",
    "plt.ylabel('Humidity (%)',fontsize =16)\n",
    "marker_size = 12\n",
    "\n",
    "#Establish plot limits\n",
    "plt.ylim(10, 105)\n",
    "\n",
    "# Add plot and text of linear regression model \n",
    "plt.plot(x_values,regress_values,\"r-\")\n",
    "ax1.annotate(line_equation, xy=(35, 10), xycoords='data',xytext=(0.7, 0.2), textcoords='axes fraction',\n",
    "             horizontalalignment='right', verticalalignment='top',fontsize=20,color=\"blue\")\n",
    "\n",
    "\n",
    "#Save image for potential reference in the report\n",
    "plt.savefig(\"../output_data/NorthernHem_Humidity_vs_Lat_Linear_Regression.png\")\n",
    "\n",
    "plt.show()"
   ]
  },
  {
   "cell_type": "markdown",
   "metadata": {},
   "source": [
    "####  Southern Hemisphere - Humidity (%) vs. Latitude Linear Regression"
   ]
  },
  {
   "cell_type": "code",
   "execution_count": 210,
   "metadata": {},
   "outputs": [],
   "source": [
    "#Narrow Latitude to Southern Hemisphere\n",
    "SH_clean_weather_data_df = clean_weather_data_df[(clean_weather_data_df['Lat'] <=0)]"
   ]
  },
  {
   "cell_type": "code",
   "execution_count": 211,
   "metadata": {},
   "outputs": [
    {
     "data": {
      "text/plain": [
       "0.21017"
      ]
     },
     "execution_count": 211,
     "metadata": {},
     "output_type": "execute_result"
    }
   ],
   "source": [
    "#Calculate correlation coefficient\n",
    "Correlation_Coef = round(st.pearsonr(SH_clean_weather_data_df['Lat'],SH_clean_weather_data_df['Humidity'])[0],5)\n",
    "Correlation_Coef"
   ]
  },
  {
   "cell_type": "code",
   "execution_count": 212,
   "metadata": {},
   "outputs": [
    {
     "data": {
      "text/html": [
       "<div>\n",
       "<style scoped>\n",
       "    .dataframe tbody tr th:only-of-type {\n",
       "        vertical-align: middle;\n",
       "    }\n",
       "\n",
       "    .dataframe tbody tr th {\n",
       "        vertical-align: top;\n",
       "    }\n",
       "\n",
       "    .dataframe thead th {\n",
       "        text-align: right;\n",
       "    }\n",
       "</style>\n",
       "<table border=\"1\" class=\"dataframe\">\n",
       "  <thead>\n",
       "    <tr style=\"text-align: right;\">\n",
       "      <th></th>\n",
       "      <th>Corr Analysis</th>\n",
       "      <th>Slope</th>\n",
       "      <th>Intercept</th>\n",
       "      <th>rValueCorr_Coef</th>\n",
       "      <th>PndasCorr_Coef</th>\n",
       "      <th>StdErr</th>\n",
       "    </tr>\n",
       "  </thead>\n",
       "  <tbody>\n",
       "    <tr>\n",
       "      <th>0</th>\n",
       "      <td>SH Humidity vs Lat</td>\n",
       "      <td>{0.26375149241936935}</td>\n",
       "      <td>{78.28965442847743}</td>\n",
       "      <td>{0.21016780666728516}</td>\n",
       "      <td>{0.21017}</td>\n",
       "      <td>{0.09094592685230372}</td>\n",
       "    </tr>\n",
       "  </tbody>\n",
       "</table>\n",
       "</div>"
      ],
      "text/plain": [
       "        Corr Analysis                  Slope            Intercept  \\\n",
       "0  SH Humidity vs Lat  {0.26375149241936935}  {78.28965442847743}   \n",
       "\n",
       "         rValueCorr_Coef PndasCorr_Coef                 StdErr  \n",
       "0  {0.21016780666728516}      {0.21017}  {0.09094592685230372}  "
      ]
     },
     "execution_count": 212,
     "metadata": {},
     "output_type": "execute_result"
    }
   ],
   "source": [
    "#Calulate linear formula\n",
    "x_values = SH_clean_weather_data_df['Lat']\n",
    "y_values = SH_clean_weather_data_df['Humidity']\n",
    "\n",
    "(slope, intercept, rvalue, pvalue, stderr) = linregress(x_values, y_values)\n",
    "regress_values = x_values * slope + intercept\n",
    "\n",
    "#Record results in a dataframe\n",
    "linear_formula_Df = pd.DataFrame({\n",
    "    \"Corr Analysis\":\"SH Humidity vs Lat\",\n",
    "    \"Slope\":{slope},\n",
    "    \"Intercept\":{intercept},\n",
    "    \"rValueCorr_Coef\":{rvalue},\n",
    "    \"PndasCorr_Coef\":{Correlation_Coef},\n",
    "    \"StdErr\":{stderr} \n",
    "} ,index=[0] )\n",
    "linear_formula_Df"
   ]
  },
  {
   "cell_type": "code",
   "execution_count": 213,
   "metadata": {},
   "outputs": [
    {
     "data": {
      "text/plain": [
       "'y = 0.26x + 78.29'"
      ]
     },
     "execution_count": 213,
     "metadata": {},
     "output_type": "execute_result"
    }
   ],
   "source": [
    "#Create text for plot overlay\n",
    "line_equation = \"y = \" + str(round(slope,2)) + \"x + \" + str(round(intercept,2))\n",
    "line_equation"
   ]
  },
  {
   "cell_type": "code",
   "execution_count": 214,
   "metadata": {},
   "outputs": [
    {
     "data": {
      "image/png": "[encoded data removed]",
      "text/plain": [
       "<Figure size 1080x576 with 1 Axes>"
      ]
     },
     "metadata": {
      "needs_background": "light"
     },
     "output_type": "display_data"
    }
   ],
   "source": [
    "#Plot the linear regression model on top of the scatter plot\n",
    "\n",
    "# Generate a scatter plot of Humidity vs. Latitude\n",
    "# Add the linear regreassion and line to the plot\n",
    "\n",
    "#Charactorize figure size/layout                       \n",
    "fig1, ax1 = plt.subplots(figsize=(15, 8))\n",
    "\n",
    "#Build and format scatter plot based on mean values drawn from the clean_weather_data_df dataframe\n",
    "plt.scatter(SH_clean_weather_data_df['Lat'],SH_clean_weather_data_df['Humidity'],s=30, edgecolors='black', color=\"green\")\n",
    "\n",
    "#define title and Lable axis\n",
    "plt.title('Southern Hemisphere - Humidity vs. Latitude Linear Regression '+date,fontsize =18)\n",
    "plt.xlabel('Latitude',fontsize =16)\n",
    "plt.ylabel('Humidity (%)',fontsize =16)\n",
    "marker_size = 12\n",
    "\n",
    "#Establish plot limits\n",
    "plt.ylim(0, 105)\n",
    "\n",
    "# Add plot and text of linear regression model \n",
    "plt.plot(x_values,regress_values,\"r-\")\n",
    "ax1.annotate(line_equation, xy=(-30, 50), xycoords='data',xytext=(0.3, 0.2), textcoords='axes fraction',\n",
    "             horizontalalignment='right', verticalalignment='top',fontsize=20,color=\"blue\")\n",
    "\n",
    "\n",
    "#Save image for potential reference in the report\n",
    "plt.savefig(\"../output_data/SouthernHem_Humidity_vs_Lat_Linear_Regression.png\")\n",
    "\n",
    "plt.show()"
   ]
  },
  {
   "cell_type": "code",
   "execution_count": null,
   "metadata": {},
   "outputs": [],
   "source": [
    "# Northern/Southern Hemisphere Regression Observation(s) - Both plot depicted a small rising in humidity  as \n",
    "#they moved northward. Correlation was relatively low in either case. Both depicted the majority of their humidity readings\n",
    "#at above 60%"
   ]
  },
  {
   "cell_type": "markdown",
   "metadata": {},
   "source": [
    "####  Northern Hemisphere - Cloudiness (%) vs. Latitude Linear Regression"
   ]
  },
  {
   "cell_type": "code",
   "execution_count": 215,
   "metadata": {},
   "outputs": [],
   "source": [
    "#Narrow Latitude to Northern Hemisphere\n",
    "NH_clean_weather_data_df = clean_weather_data_df[(clean_weather_data_df['Lat'] >=0)]"
   ]
  },
  {
   "cell_type": "code",
   "execution_count": 216,
   "metadata": {},
   "outputs": [
    {
     "data": {
      "text/plain": [
       "0.19121"
      ]
     },
     "execution_count": 216,
     "metadata": {},
     "output_type": "execute_result"
    }
   ],
   "source": [
    "#Calculate correlation coefficient\n",
    "Correlation_Coef = round(st.pearsonr(NH_clean_weather_data_df['Lat'],NH_clean_weather_data_df['Cloudiness'])[0],5)\n",
    "Correlation_Coef"
   ]
  },
  {
   "cell_type": "code",
   "execution_count": 217,
   "metadata": {},
   "outputs": [
    {
     "data": {
      "text/html": [
       "<div>\n",
       "<style scoped>\n",
       "    .dataframe tbody tr th:only-of-type {\n",
       "        vertical-align: middle;\n",
       "    }\n",
       "\n",
       "    .dataframe tbody tr th {\n",
       "        vertical-align: top;\n",
       "    }\n",
       "\n",
       "    .dataframe thead th {\n",
       "        text-align: right;\n",
       "    }\n",
       "</style>\n",
       "<table border=\"1\" class=\"dataframe\">\n",
       "  <thead>\n",
       "    <tr style=\"text-align: right;\">\n",
       "      <th></th>\n",
       "      <th>Corr Analysis</th>\n",
       "      <th>Slope</th>\n",
       "      <th>Intercept</th>\n",
       "      <th>rValueCorr_Coef</th>\n",
       "      <th>PndasCorr_Coef</th>\n",
       "      <th>StdErr</th>\n",
       "    </tr>\n",
       "  </thead>\n",
       "  <tbody>\n",
       "    <tr>\n",
       "      <th>0</th>\n",
       "      <td>NH Cloudiness vs Lat</td>\n",
       "      <td>{0.39607090793256133}</td>\n",
       "      <td>{36.85486339432492}</td>\n",
       "      <td>{0.19121480617879041}</td>\n",
       "      <td>{0.19121}</td>\n",
       "      <td>{0.10361740200902164}</td>\n",
       "    </tr>\n",
       "  </tbody>\n",
       "</table>\n",
       "</div>"
      ],
      "text/plain": [
       "          Corr Analysis                  Slope            Intercept  \\\n",
       "0  NH Cloudiness vs Lat  {0.39607090793256133}  {36.85486339432492}   \n",
       "\n",
       "         rValueCorr_Coef PndasCorr_Coef                 StdErr  \n",
       "0  {0.19121480617879041}      {0.19121}  {0.10361740200902164}  "
      ]
     },
     "execution_count": 217,
     "metadata": {},
     "output_type": "execute_result"
    }
   ],
   "source": [
    "#Calulate linear formula\n",
    "x_values = NH_clean_weather_data_df['Lat']\n",
    "y_values = NH_clean_weather_data_df['Cloudiness']\n",
    "\n",
    "(slope, intercept, rvalue, pvalue, stderr) = linregress(x_values, y_values)\n",
    "regress_values = x_values * slope + intercept\n",
    "\n",
    "#Record results in a dataframe\n",
    "linear_formula_Df = pd.DataFrame({\n",
    "    \"Corr Analysis\":\"NH Cloudiness vs Lat\",\n",
    "    \"Slope\":{slope},\n",
    "    \"Intercept\":{intercept},\n",
    "    \"rValueCorr_Coef\":{rvalue},\n",
    "    \"PndasCorr_Coef\":{Correlation_Coef},\n",
    "    \"StdErr\":{stderr} \n",
    "} ,index=[0] )\n",
    "linear_formula_Df"
   ]
  },
  {
   "cell_type": "code",
   "execution_count": 218,
   "metadata": {},
   "outputs": [
    {
     "data": {
      "text/plain": [
       "'y = 0.4x + 36.85'"
      ]
     },
     "execution_count": 218,
     "metadata": {},
     "output_type": "execute_result"
    }
   ],
   "source": [
    "#Create text for plot overlay\n",
    "line_equation = \"y = \" + str(round(slope,2)) + \"x + \" + str(round(intercept,2))\n",
    "line_equation"
   ]
  },
  {
   "cell_type": "code",
   "execution_count": 219,
   "metadata": {},
   "outputs": [
    {
     "data": {
      "image/png": "[encoded data removed]",
      "text/plain": [
       "<Figure size 1080x576 with 1 Axes>"
      ]
     },
     "metadata": {
      "needs_background": "light"
     },
     "output_type": "display_data"
    }
   ],
   "source": [
    "#Plot the linear regression model on top of the scatter plot\n",
    "\n",
    "# Generate a scatter plot of Humidity vs. Latitude\n",
    "# Add the linear regreassion and line to the plot\n",
    "\n",
    "#Charactorize figure size/layout                       \n",
    "fig1, ax1 = plt.subplots(figsize=(15, 8))\n",
    "\n",
    "#Build and format scatter plot based on mean values drawn from the clean_weather_data_df dataframe\n",
    "plt.scatter(NH_clean_weather_data_df['Lat'],NH_clean_weather_data_df['Cloudiness'],s=30, edgecolors='black', color=\"green\")\n",
    "\n",
    "#define title and Lable axis\n",
    "plt.title('Northern Hemisphere - Cloudiness vs. Latitude Linear Regression '+date,fontsize =18)\n",
    "plt.xlabel('Latitude',fontsize =16)\n",
    "plt.ylabel('Cloudiness (%)',fontsize =16)\n",
    "marker_size = 12\n",
    "\n",
    "#Establish plot limits\n",
    "plt.ylim(-5, 105)\n",
    "\n",
    "# Add plot and text of linear regression model \n",
    "plt.plot(x_values,regress_values,\"r-\")\n",
    "ax1.annotate(line_equation, xy=(30, 50), xycoords='data',xytext=(0.9, 0.3), textcoords='axes fraction',\n",
    "             horizontalalignment='right', verticalalignment='top',fontsize=20,color=\"blue\")\n",
    "\n",
    "\n",
    "#Save image for potential reference in the report\n",
    "plt.savefig(\"../output_data/NorthernHem_Cloudiness_vs_Lat_Linear_Regression.png\")\n",
    "\n",
    "plt.show()"
   ]
  },
  {
   "cell_type": "markdown",
   "metadata": {},
   "source": [
    "####  Southern Hemisphere - Cloudiness (%) vs. Latitude Linear Regression"
   ]
  },
  {
   "cell_type": "code",
   "execution_count": 220,
   "metadata": {},
   "outputs": [],
   "source": [
    "#Narrow Latitude to Southern Hemisphere\n",
    "SH_clean_weather_data_df = clean_weather_data_df[(clean_weather_data_df['Lat'] <=0)]"
   ]
  },
  {
   "cell_type": "code",
   "execution_count": 221,
   "metadata": {},
   "outputs": [
    {
     "data": {
      "text/plain": [
       "0.24513"
      ]
     },
     "execution_count": 221,
     "metadata": {},
     "output_type": "execute_result"
    }
   ],
   "source": [
    "#Calculate correlation coefficient\n",
    "Correlation_Coef = round(st.pearsonr(SH_clean_weather_data_df['Lat'],SH_clean_weather_data_df['Cloudiness'])[0],5)\n",
    "Correlation_Coef"
   ]
  },
  {
   "cell_type": "code",
   "execution_count": 222,
   "metadata": {},
   "outputs": [
    {
     "data": {
      "text/html": [
       "<div>\n",
       "<style scoped>\n",
       "    .dataframe tbody tr th:only-of-type {\n",
       "        vertical-align: middle;\n",
       "    }\n",
       "\n",
       "    .dataframe tbody tr th {\n",
       "        vertical-align: top;\n",
       "    }\n",
       "\n",
       "    .dataframe thead th {\n",
       "        text-align: right;\n",
       "    }\n",
       "</style>\n",
       "<table border=\"1\" class=\"dataframe\">\n",
       "  <thead>\n",
       "    <tr style=\"text-align: right;\">\n",
       "      <th></th>\n",
       "      <th>Corr Analysis</th>\n",
       "      <th>Slope</th>\n",
       "      <th>Intercept</th>\n",
       "      <th>rValueCorr_Coef</th>\n",
       "      <th>PndasCorr_Coef</th>\n",
       "      <th>StdErr</th>\n",
       "    </tr>\n",
       "  </thead>\n",
       "  <tbody>\n",
       "    <tr>\n",
       "      <th>0</th>\n",
       "      <td>SH Cloudiness vs Lat</td>\n",
       "      <td>{0.7188257777084808}</td>\n",
       "      <td>{71.70866898872801}</td>\n",
       "      <td>{0.24513319094678926}</td>\n",
       "      <td>{0.24513}</td>\n",
       "      <td>{0.21073122922608717}</td>\n",
       "    </tr>\n",
       "  </tbody>\n",
       "</table>\n",
       "</div>"
      ],
      "text/plain": [
       "          Corr Analysis                 Slope            Intercept  \\\n",
       "0  SH Cloudiness vs Lat  {0.7188257777084808}  {71.70866898872801}   \n",
       "\n",
       "         rValueCorr_Coef PndasCorr_Coef                 StdErr  \n",
       "0  {0.24513319094678926}      {0.24513}  {0.21073122922608717}  "
      ]
     },
     "execution_count": 222,
     "metadata": {},
     "output_type": "execute_result"
    }
   ],
   "source": [
    "#Calulate linear formula\n",
    "x_values = SH_clean_weather_data_df['Lat']\n",
    "y_values = SH_clean_weather_data_df['Cloudiness']\n",
    "\n",
    "(slope, intercept, rvalue, pvalue, stderr) = linregress(x_values, y_values)\n",
    "regress_values = x_values * slope + intercept\n",
    "\n",
    "#Record results in a dataframe\n",
    "linear_formula_Df = pd.DataFrame({\n",
    "    \"Corr Analysis\":\"SH Cloudiness vs Lat\",\n",
    "    \"Slope\":{slope},\n",
    "    \"Intercept\":{intercept},\n",
    "    \"rValueCorr_Coef\":{rvalue},\n",
    "    \"PndasCorr_Coef\":{Correlation_Coef},\n",
    "    \"StdErr\":{stderr} \n",
    "} ,index=[0] )\n",
    "linear_formula_Df"
   ]
  },
  {
   "cell_type": "code",
   "execution_count": 223,
   "metadata": {},
   "outputs": [
    {
     "data": {
      "text/plain": [
       "'y = 0.72x + 71.71'"
      ]
     },
     "execution_count": 223,
     "metadata": {},
     "output_type": "execute_result"
    }
   ],
   "source": [
    "#Create text for plot overlay\n",
    "line_equation = \"y = \" + str(round(slope,2)) + \"x + \" + str(round(intercept,2))\n",
    "line_equation"
   ]
  },
  {
   "cell_type": "code",
   "execution_count": 224,
   "metadata": {},
   "outputs": [
    {
     "data": {
      "image/png": "[encoded data removed]",
      "text/plain": [
       "<Figure size 1080x576 with 1 Axes>"
      ]
     },
     "metadata": {
      "needs_background": "light"
     },
     "output_type": "display_data"
    }
   ],
   "source": [
    "#Plot the linear regression model on top of the scatter plot\n",
    "\n",
    "# Generate a scatter plot of Humidity vs. Latitude\n",
    "# Add the linear regreassion and line to the plot\n",
    "\n",
    "#Charactorize figure size/layout                       \n",
    "fig1, ax1 = plt.subplots(figsize=(15, 8))\n",
    "\n",
    "#Build and format scatter plot based on mean values drawn from the clean_weather_data_df dataframe\n",
    "plt.scatter(SH_clean_weather_data_df['Lat'],SH_clean_weather_data_df['Cloudiness'],s=30, edgecolors='black', color=\"green\")\n",
    "\n",
    "#define title and Lable axis\n",
    "plt.title('Southern Hemisphere - Cloudiness vs. Latitude Linear Regression '+date,fontsize =18)\n",
    "plt.xlabel('Latitude',fontsize =16)\n",
    "plt.ylabel('Cloudiness (%)',fontsize =16)\n",
    "marker_size = 12\n",
    "\n",
    "#Establish plot limits\n",
    "plt.ylim(-5, 105)\n",
    "\n",
    "# Add plot and text of linear regression model \n",
    "plt.plot(x_values,regress_values,\"r-\")\n",
    "ax1.annotate(line_equation, xy=(-30, 50), xycoords='data',xytext=(0.3, 0.6), textcoords='axes fraction',\n",
    "             horizontalalignment='right', verticalalignment='top',fontsize=20,color=\"blue\")\n",
    "\n",
    "\n",
    "#Save image for potential reference in the report\n",
    "plt.savefig(\"../output_data/SouthernHem_Cloudiness_vs_Lat_Linear_Regression.png\")\n",
    "\n",
    "plt.show()"
   ]
  },
  {
   "cell_type": "code",
   "execution_count": null,
   "metadata": {},
   "outputs": [],
   "source": [
    "# Northern/Southern Hemisphere Regression Observation(s) - Both plot depicted a small rising in cloudiness  as \n",
    "#they moved northward. Correlation was relatively low in either case. Both depicted a moderate number of completly \n",
    "# clear (0%) or totally cloudy (100%)."
   ]
  },
  {
   "cell_type": "markdown",
   "metadata": {},
   "source": [
    "####  Northern Hemisphere - Wind Speed (mph) vs. Latitude Linear Regression"
   ]
  },
  {
   "cell_type": "code",
   "execution_count": 247,
   "metadata": {},
   "outputs": [],
   "source": [
    "#Narrow Latitude to Northern Hemisphere\n",
    "NH_clean_weather_data_df = clean_weather_data_df[(clean_weather_data_df['Lat'] >=0)]"
   ]
  },
  {
   "cell_type": "code",
   "execution_count": 248,
   "metadata": {},
   "outputs": [
    {
     "data": {
      "text/plain": [
       "0.10511"
      ]
     },
     "execution_count": 248,
     "metadata": {},
     "output_type": "execute_result"
    }
   ],
   "source": [
    "#Calculate correlation coefficient\n",
    "Correlation_Coef = round(st.pearsonr(NH_clean_weather_data_df['Lat'],NH_clean_weather_data_df['Wind Speed'])[0],5)\n",
    "Correlation_Coef"
   ]
  },
  {
   "cell_type": "code",
   "execution_count": 249,
   "metadata": {},
   "outputs": [
    {
     "data": {
      "text/html": [
       "<div>\n",
       "<style scoped>\n",
       "    .dataframe tbody tr th:only-of-type {\n",
       "        vertical-align: middle;\n",
       "    }\n",
       "\n",
       "    .dataframe tbody tr th {\n",
       "        vertical-align: top;\n",
       "    }\n",
       "\n",
       "    .dataframe thead th {\n",
       "        text-align: right;\n",
       "    }\n",
       "</style>\n",
       "<table border=\"1\" class=\"dataframe\">\n",
       "  <thead>\n",
       "    <tr style=\"text-align: right;\">\n",
       "      <th></th>\n",
       "      <th>Corr Analysis</th>\n",
       "      <th>Slope</th>\n",
       "      <th>Intercept</th>\n",
       "      <th>rValueCorr_Coef</th>\n",
       "      <th>PndasCorr_Coef</th>\n",
       "      <th>StdErr</th>\n",
       "    </tr>\n",
       "  </thead>\n",
       "  <tbody>\n",
       "    <tr>\n",
       "      <th>0</th>\n",
       "      <td>NH Wind Speed vs Lat</td>\n",
       "      <td>{0.01240826807095221}</td>\n",
       "      <td>{2.846652890533825}</td>\n",
       "      <td>{0.10511256906501085}</td>\n",
       "      <td>{0.10511}</td>\n",
       "      <td>{0.005982925778984792}</td>\n",
       "    </tr>\n",
       "  </tbody>\n",
       "</table>\n",
       "</div>"
      ],
      "text/plain": [
       "          Corr Analysis                  Slope            Intercept  \\\n",
       "0  NH Wind Speed vs Lat  {0.01240826807095221}  {2.846652890533825}   \n",
       "\n",
       "         rValueCorr_Coef PndasCorr_Coef                  StdErr  \n",
       "0  {0.10511256906501085}      {0.10511}  {0.005982925778984792}  "
      ]
     },
     "execution_count": 249,
     "metadata": {},
     "output_type": "execute_result"
    }
   ],
   "source": [
    "#Calulate linear formula\n",
    "x_values = NH_clean_weather_data_df['Lat']\n",
    "y_values = NH_clean_weather_data_df['Wind Speed']\n",
    "\n",
    "(slope, intercept, rvalue, pvalue, stderr) = linregress(x_values, y_values)\n",
    "regress_values = x_values * slope + intercept\n",
    "\n",
    "#Record results in a dataframe\n",
    "linear_formula_Df = pd.DataFrame({\n",
    "    \"Corr Analysis\":\"NH Wind Speed vs Lat\",\n",
    "    \"Slope\":{slope},\n",
    "    \"Intercept\":{intercept},\n",
    "    \"rValueCorr_Coef\":{rvalue},\n",
    "    \"PndasCorr_Coef\":{Correlation_Coef},\n",
    "    \"StdErr\":{stderr} \n",
    "} ,index=[0] )\n",
    "linear_formula_Df"
   ]
  },
  {
   "cell_type": "code",
   "execution_count": 250,
   "metadata": {},
   "outputs": [
    {
     "data": {
      "text/plain": [
       "'y = 0.01x + 2.85'"
      ]
     },
     "execution_count": 250,
     "metadata": {},
     "output_type": "execute_result"
    }
   ],
   "source": [
    "#Create text for plot overlay\n",
    "line_equation = \"y = \" + str(round(slope,2)) + \"x + \" + str(round(intercept,2))\n",
    "line_equation"
   ]
  },
  {
   "cell_type": "code",
   "execution_count": 251,
   "metadata": {},
   "outputs": [
    {
     "data": {
      "image/png": "[encoded data removed]",
      "text/plain": [
       "<Figure size 1080x576 with 1 Axes>"
      ]
     },
     "metadata": {
      "needs_background": "light"
     },
     "output_type": "display_data"
    }
   ],
   "source": [
    "#Plot the linear regression model on top of the scatter plot\n",
    "\n",
    "# Generate a scatter plot of Wind Speed vs. Latitude\n",
    "# Add the linear regreassion and line to the plot\n",
    "\n",
    "#Charactorize figure size/layout                       \n",
    "fig1, ax1 = plt.subplots(figsize=(15, 8))\n",
    "\n",
    "#Build and format scatter plot based on mean values drawn from the clean_weather_data_df dataframe\n",
    "plt.scatter(NH_clean_weather_data_df['Lat'],NH_clean_weather_data_df['Wind Speed'],s=30, edgecolors='black', color=\"green\")\n",
    "\n",
    "#define title and Lable axis\n",
    "plt.title('Northern Hemisphere - Wind Speed vs. Latitude Linear Regression '+date,fontsize =18)\n",
    "plt.xlabel('Latitude',fontsize =16)\n",
    "plt.ylabel('Wind Speed',fontsize =16)\n",
    "marker_size = 12\n",
    "\n",
    "#Establish plot limits\n",
    "plt.ylim(0, 20)\n",
    "\n",
    "# Add plot and text of linear regression model \n",
    "plt.plot(x_values,regress_values,\"r-\")\n",
    "ax1.annotate(line_equation, xy=(10, 10), xycoords='data',xytext=(0.3, 0.6), textcoords='axes fraction',\n",
    "             horizontalalignment='right', verticalalignment='top',fontsize=20,color=\"blue\")\n",
    "\n",
    "\n",
    "#Save image for potential reference in the report\n",
    "plt.savefig(\"../output_data/NorthernHem_Wind_Speed_vs_Lat_Linear_Regression.png\")\n",
    "\n",
    "plt.show()"
   ]
  },
  {
   "cell_type": "markdown",
   "metadata": {},
   "source": [
    "####  Southern Hemisphere - Wind Speed (mph) vs. Latitude Linear Regression"
   ]
  },
  {
   "cell_type": "code",
   "execution_count": 237,
   "metadata": {},
   "outputs": [],
   "source": [
    "#Narrow Latitude to Southern Hemisphere\n",
    "SH_clean_weather_data_df = clean_weather_data_df[(clean_weather_data_df['Lat'] <=0)]"
   ]
  },
  {
   "cell_type": "code",
   "execution_count": 238,
   "metadata": {},
   "outputs": [
    {
     "data": {
      "text/plain": [
       "-0.26817"
      ]
     },
     "execution_count": 238,
     "metadata": {},
     "output_type": "execute_result"
    }
   ],
   "source": [
    "#Calculate correlation coefficient\n",
    "Correlation_Coef = round(st.pearsonr(SH_clean_weather_data_df['Lat'],SH_clean_weather_data_df['Wind Speed'])[0],5)\n",
    "Correlation_Coef"
   ]
  },
  {
   "cell_type": "code",
   "execution_count": 239,
   "metadata": {},
   "outputs": [
    {
     "data": {
      "text/html": [
       "<div>\n",
       "<style scoped>\n",
       "    .dataframe tbody tr th:only-of-type {\n",
       "        vertical-align: middle;\n",
       "    }\n",
       "\n",
       "    .dataframe tbody tr th {\n",
       "        vertical-align: top;\n",
       "    }\n",
       "\n",
       "    .dataframe thead th {\n",
       "        text-align: right;\n",
       "    }\n",
       "</style>\n",
       "<table border=\"1\" class=\"dataframe\">\n",
       "  <thead>\n",
       "    <tr style=\"text-align: right;\">\n",
       "      <th></th>\n",
       "      <th>Corr Analysis</th>\n",
       "      <th>Slope</th>\n",
       "      <th>Intercept</th>\n",
       "      <th>rValueCorr_Coef</th>\n",
       "      <th>PndasCorr_Coef</th>\n",
       "      <th>StdErr</th>\n",
       "    </tr>\n",
       "  </thead>\n",
       "  <tbody>\n",
       "    <tr>\n",
       "      <th>0</th>\n",
       "      <td>SH Wind Speed vs Lat</td>\n",
       "      <td>{-0.053688967529618346}</td>\n",
       "      <td>{2.514452276094395}</td>\n",
       "      <td>{-0.2681723156808761}</td>\n",
       "      <td>{-0.26817}</td>\n",
       "      <td>{0.01429647494453765}</td>\n",
       "    </tr>\n",
       "  </tbody>\n",
       "</table>\n",
       "</div>"
      ],
      "text/plain": [
       "          Corr Analysis                    Slope            Intercept  \\\n",
       "0  SH Wind Speed vs Lat  {-0.053688967529618346}  {2.514452276094395}   \n",
       "\n",
       "         rValueCorr_Coef PndasCorr_Coef                 StdErr  \n",
       "0  {-0.2681723156808761}     {-0.26817}  {0.01429647494453765}  "
      ]
     },
     "execution_count": 239,
     "metadata": {},
     "output_type": "execute_result"
    }
   ],
   "source": [
    "#Calulate linear formula\n",
    "x_values = SH_clean_weather_data_df['Lat']\n",
    "y_values = SH_clean_weather_data_df['Wind Speed']\n",
    "\n",
    "(slope, intercept, rvalue, pvalue, stderr) = linregress(x_values, y_values)\n",
    "regress_values = x_values * slope + intercept\n",
    "\n",
    "#Record results in a dataframe\n",
    "linear_formula_Df = pd.DataFrame({\n",
    "    \"Corr Analysis\":\"SH Wind Speed vs Lat\",\n",
    "    \"Slope\":{slope},\n",
    "    \"Intercept\":{intercept},\n",
    "    \"rValueCorr_Coef\":{rvalue},\n",
    "    \"PndasCorr_Coef\":{Correlation_Coef},\n",
    "    \"StdErr\":{stderr} \n",
    "} ,index=[0] )\n",
    "linear_formula_Df"
   ]
  },
  {
   "cell_type": "code",
   "execution_count": 240,
   "metadata": {},
   "outputs": [
    {
     "data": {
      "text/plain": [
       "'y = -0.05x + 2.51'"
      ]
     },
     "execution_count": 240,
     "metadata": {},
     "output_type": "execute_result"
    }
   ],
   "source": [
    "#Create text for plot overlay\n",
    "line_equation = \"y = \" + str(round(slope,2)) + \"x + \" + str(round(intercept,2))\n",
    "line_equation"
   ]
  },
  {
   "cell_type": "code",
   "execution_count": 241,
   "metadata": {},
   "outputs": [
    {
     "data": {
      "image/png": "[encoded data removed]",
      "text/plain": [
       "<Figure size 1080x576 with 1 Axes>"
      ]
     },
     "metadata": {
      "needs_background": "light"
     },
     "output_type": "display_data"
    }
   ],
   "source": [
    "#Plot the linear regression model on top of the scatter plot\n",
    "\n",
    "# Generate a scatter plot of Wind Speed vs. Latitude\n",
    "# Add the linear regreassion and line to the plot\n",
    "\n",
    "#Charactorize figure size/layout                       \n",
    "fig1, ax1 = plt.subplots(figsize=(15, 8))\n",
    "\n",
    "#Build and format scatter plot based on mean values drawn from the clean_weather_data_df dataframe\n",
    "plt.scatter(SH_clean_weather_data_df['Lat'],SH_clean_weather_data_df['Wind Speed'],s=30, edgecolors='black', color=\"green\")\n",
    "\n",
    "#define title and Lable axis\n",
    "plt.title('Southern Hemisphere - Wind Speed vs. Latitude Linear Regression '+date,fontsize =18)\n",
    "plt.xlabel('Latitude',fontsize =16)\n",
    "plt.ylabel('Wind Speed',fontsize =16)\n",
    "marker_size = 12\n",
    "\n",
    "#Establish plot limits\n",
    "plt.ylim(0, 17.5)\n",
    "\n",
    "# Add plot and text of linear regression model \n",
    "plt.plot(x_values,regress_values,\"r-\")\n",
    "ax1.annotate(line_equation, xy=(-40, 10), xycoords='data',xytext=(0.3, 0.6), textcoords='axes fraction',\n",
    "             horizontalalignment='right', verticalalignment='top',fontsize=20,color=\"blue\")\n",
    "\n",
    "\n",
    "#Save image for potential reference in the report\n",
    "plt.savefig(\"../output_data/SouthernHem_Wind_Speed_vs_Lat_Linear_Regression.png\")\n",
    "\n",
    "plt.show()"
   ]
  },
  {
   "cell_type": "code",
   "execution_count": null,
   "metadata": {},
   "outputs": [],
   "source": [
    "# Northern/Southern Hemisphere Regression Observation(s) - Both plot depicted a small decline in wind speed as \n",
    "#they approached the equator. Correlation was relatively low in either case. Both depicted the majority of their \n",
    "#wind speeds at under 5.\n"
   ]
  },
  {
   "cell_type": "code",
   "execution_count": null,
   "metadata": {},
   "outputs": [],
   "source": []
  },
  {
   "cell_type": "code",
   "execution_count": null,
   "metadata": {},
   "outputs": [],
   "source": []
  }
 ],
 "metadata": {
  "anaconda-cloud": {},
  "kernel_info": {
   "name": "python3"
  },
  "kernelspec": {
   "display_name": "Python 3",
   "language": "python",
   "name": "python3"
  },
  "language_info": {
   "codemirror_mode": {
    "name": "ipython",
    "version": 3
   },
   "file_extension": ".py",
   "mimetype": "text/x-python",
   "name": "python",
   "nbconvert_exporter": "python",
   "pygments_lexer": "ipython3",
   "version": "3.8.3"
  },
  "latex_envs": {
   "LaTeX_envs_menu_present": true,
   "autoclose": false,
   "autocomplete": true,
   "bibliofile": "biblio.bib",
   "cite_by": "apalike",
   "current_citInitial": 1,
   "eqLabelWithNumbers": true,
   "eqNumInitial": 1,
   "hotkeys": {
    "equation": "Ctrl-E",
    "itemize": "Ctrl-I"
   },
   "labels_anchors": false,
   "latex_user_defs": false,
   "report_style_numbering": false,
   "user_envs_cfg": false
  },
  "nteract": {
   "version": "0.12.3"
  }
 },
 "nbformat": 4,
 "nbformat_minor": 2
}
